{
 "cells": [
  {
   "cell_type": "markdown",
   "id": "53e52f20",
   "metadata": {},
   "source": [
    "# Stock Market Prediction and Forecasting using Stacked LSTM\n"
   ]
  },
  {
   "cell_type": "markdown",
   "id": "e9fb610d",
   "metadata": {},
   "source": [
    "### Keras and Tensorflow"
   ]
  },
  {
   "cell_type": "code",
   "execution_count": 1,
   "id": "a1d8a784",
   "metadata": {},
   "outputs": [
    {
     "name": "stdout",
     "output_type": "stream",
     "text": [
      "Defaulting to user installation because normal site-packages is not writeable\n",
      "Requirement already satisfied: pandas_datareader in c:\\users\\am421\\appdata\\roaming\\python\\python39\\site-packages (0.10.0)\n",
      "Requirement already satisfied: requests>=2.19.0 in c:\\programdata\\anaconda3\\lib\\site-packages (from pandas_datareader) (2.27.1)\n",
      "Requirement already satisfied: pandas>=0.23 in c:\\programdata\\anaconda3\\lib\\site-packages (from pandas_datareader) (1.4.2)\n",
      "Requirement already satisfied: lxml in c:\\users\\am421\\appdata\\roaming\\python\\python39\\site-packages (from pandas_datareader) (4.9.2)\n",
      "Requirement already satisfied: python-dateutil>=2.8.1 in c:\\programdata\\anaconda3\\lib\\site-packages (from pandas>=0.23->pandas_datareader) (2.8.2)\n",
      "Requirement already satisfied: pytz>=2020.1 in c:\\users\\am421\\appdata\\roaming\\python\\python39\\site-packages (from pandas>=0.23->pandas_datareader) (2022.7.1)\n",
      "Requirement already satisfied: numpy>=1.18.5 in c:\\users\\am421\\appdata\\roaming\\python\\python39\\site-packages (from pandas>=0.23->pandas_datareader) (1.25.2)\n",
      "Requirement already satisfied: six>=1.5 in c:\\programdata\\anaconda3\\lib\\site-packages (from python-dateutil>=2.8.1->pandas>=0.23->pandas_datareader) (1.16.0)\n",
      "Requirement already satisfied: certifi>=2017.4.17 in c:\\programdata\\anaconda3\\lib\\site-packages (from requests>=2.19.0->pandas_datareader) (2021.10.8)\n",
      "Requirement already satisfied: idna<4,>=2.5 in c:\\programdata\\anaconda3\\lib\\site-packages (from requests>=2.19.0->pandas_datareader) (3.3)\n",
      "Requirement already satisfied: charset-normalizer~=2.0.0 in c:\\programdata\\anaconda3\\lib\\site-packages (from requests>=2.19.0->pandas_datareader) (2.0.4)\n",
      "Requirement already satisfied: urllib3<1.27,>=1.21.1 in c:\\programdata\\anaconda3\\lib\\site-packages (from requests>=2.19.0->pandas_datareader) (1.26.9)\n",
      "Note: you may need to restart the kernel to use updated packages.\n"
     ]
    }
   ],
   "source": [
    "pip install pandas_datareader"
   ]
  },
  {
   "cell_type": "code",
   "execution_count": 2,
   "id": "2c674de3",
   "metadata": {},
   "outputs": [],
   "source": [
    "import pandas_datareader as pdr"
   ]
  },
  {
   "cell_type": "code",
   "execution_count": 3,
   "id": "f10b684e",
   "metadata": {},
   "outputs": [
    {
     "name": "stderr",
     "output_type": "stream",
     "text": [
      "C:\\Users\\am421\\AppData\\Roaming\\Python\\Python39\\site-packages\\pandas_datareader\\tiingo.py:234: FutureWarning: In a future version of pandas all arguments of concat except for the argument 'objs' will be keyword-only.\n",
      "  return pd.concat(dfs, self._concat_axis)\n"
     ]
    }
   ],
   "source": [
    "tiingo_api_key = 'c92713db0b5ca17d70a41b4c4c562369dfce5bb4'\n",
    "df = pdr.get_data_tiingo('AAPL', api_key=tiingo_api_key)"
   ]
  },
  {
   "cell_type": "code",
   "execution_count": 4,
   "id": "09521ce8",
   "metadata": {},
   "outputs": [],
   "source": [
    "import pandas as pd"
   ]
  },
  {
   "cell_type": "code",
   "execution_count": 5,
   "id": "0e24cf6f",
   "metadata": {},
   "outputs": [],
   "source": [
    "df = pd.read_csv('AAPL.csv')"
   ]
  },
  {
   "cell_type": "code",
   "execution_count": 6,
   "id": "c43b3190",
   "metadata": {},
   "outputs": [
    {
     "data": {
      "text/html": [
       "<div>\n",
       "<style scoped>\n",
       "    .dataframe tbody tr th:only-of-type {\n",
       "        vertical-align: middle;\n",
       "    }\n",
       "\n",
       "    .dataframe tbody tr th {\n",
       "        vertical-align: top;\n",
       "    }\n",
       "\n",
       "    .dataframe thead th {\n",
       "        text-align: right;\n",
       "    }\n",
       "</style>\n",
       "<table border=\"1\" class=\"dataframe\">\n",
       "  <thead>\n",
       "    <tr style=\"text-align: right;\">\n",
       "      <th></th>\n",
       "      <th>Date</th>\n",
       "      <th>Open</th>\n",
       "      <th>High</th>\n",
       "      <th>Low</th>\n",
       "      <th>Close</th>\n",
       "      <th>Adj Close</th>\n",
       "      <th>Volume</th>\n",
       "    </tr>\n",
       "  </thead>\n",
       "  <tbody>\n",
       "    <tr>\n",
       "      <th>0</th>\n",
       "      <td>2013-01-28</td>\n",
       "      <td>15.636786</td>\n",
       "      <td>16.186071</td>\n",
       "      <td>15.566429</td>\n",
       "      <td>16.065357</td>\n",
       "      <td>13.757315</td>\n",
       "      <td>785517600</td>\n",
       "    </tr>\n",
       "    <tr>\n",
       "      <th>1</th>\n",
       "      <td>2013-01-29</td>\n",
       "      <td>16.375000</td>\n",
       "      <td>16.435715</td>\n",
       "      <td>16.147142</td>\n",
       "      <td>16.366785</td>\n",
       "      <td>14.015439</td>\n",
       "      <td>571158000</td>\n",
       "    </tr>\n",
       "    <tr>\n",
       "      <th>2</th>\n",
       "      <td>2013-01-30</td>\n",
       "      <td>16.321428</td>\n",
       "      <td>16.521429</td>\n",
       "      <td>16.232143</td>\n",
       "      <td>16.315357</td>\n",
       "      <td>13.971395</td>\n",
       "      <td>417155200</td>\n",
       "    </tr>\n",
       "    <tr>\n",
       "      <th>3</th>\n",
       "      <td>2013-01-31</td>\n",
       "      <td>16.320715</td>\n",
       "      <td>16.402857</td>\n",
       "      <td>16.249287</td>\n",
       "      <td>16.267500</td>\n",
       "      <td>13.930416</td>\n",
       "      <td>319334400</td>\n",
       "    </tr>\n",
       "    <tr>\n",
       "      <th>4</th>\n",
       "      <td>2013-02-01</td>\n",
       "      <td>16.396786</td>\n",
       "      <td>16.410000</td>\n",
       "      <td>16.012501</td>\n",
       "      <td>16.200714</td>\n",
       "      <td>13.873220</td>\n",
       "      <td>539484400</td>\n",
       "    </tr>\n",
       "  </tbody>\n",
       "</table>\n",
       "</div>"
      ],
      "text/plain": [
       "         Date       Open       High        Low      Close  Adj Close  \\\n",
       "0  2013-01-28  15.636786  16.186071  15.566429  16.065357  13.757315   \n",
       "1  2013-01-29  16.375000  16.435715  16.147142  16.366785  14.015439   \n",
       "2  2013-01-30  16.321428  16.521429  16.232143  16.315357  13.971395   \n",
       "3  2013-01-31  16.320715  16.402857  16.249287  16.267500  13.930416   \n",
       "4  2013-02-01  16.396786  16.410000  16.012501  16.200714  13.873220   \n",
       "\n",
       "      Volume  \n",
       "0  785517600  \n",
       "1  571158000  \n",
       "2  417155200  \n",
       "3  319334400  \n",
       "4  539484400  "
      ]
     },
     "execution_count": 6,
     "metadata": {},
     "output_type": "execute_result"
    }
   ],
   "source": [
    "df.head()"
   ]
  },
  {
   "cell_type": "code",
   "execution_count": 7,
   "id": "81ac223d",
   "metadata": {},
   "outputs": [
    {
     "data": {
      "text/html": [
       "<div>\n",
       "<style scoped>\n",
       "    .dataframe tbody tr th:only-of-type {\n",
       "        vertical-align: middle;\n",
       "    }\n",
       "\n",
       "    .dataframe tbody tr th {\n",
       "        vertical-align: top;\n",
       "    }\n",
       "\n",
       "    .dataframe thead th {\n",
       "        text-align: right;\n",
       "    }\n",
       "</style>\n",
       "<table border=\"1\" class=\"dataframe\">\n",
       "  <thead>\n",
       "    <tr style=\"text-align: right;\">\n",
       "      <th></th>\n",
       "      <th>Date</th>\n",
       "      <th>Open</th>\n",
       "      <th>High</th>\n",
       "      <th>Low</th>\n",
       "      <th>Close</th>\n",
       "      <th>Adj Close</th>\n",
       "      <th>Volume</th>\n",
       "    </tr>\n",
       "  </thead>\n",
       "  <tbody>\n",
       "    <tr>\n",
       "      <th>2659</th>\n",
       "      <td>2023-08-21</td>\n",
       "      <td>175.070007</td>\n",
       "      <td>176.130005</td>\n",
       "      <td>173.740005</td>\n",
       "      <td>175.839996</td>\n",
       "      <td>175.839996</td>\n",
       "      <td>46311900</td>\n",
       "    </tr>\n",
       "    <tr>\n",
       "      <th>2660</th>\n",
       "      <td>2023-08-22</td>\n",
       "      <td>177.059998</td>\n",
       "      <td>177.679993</td>\n",
       "      <td>176.250000</td>\n",
       "      <td>177.229996</td>\n",
       "      <td>177.229996</td>\n",
       "      <td>42084200</td>\n",
       "    </tr>\n",
       "    <tr>\n",
       "      <th>2661</th>\n",
       "      <td>2023-08-23</td>\n",
       "      <td>178.520004</td>\n",
       "      <td>181.550003</td>\n",
       "      <td>178.330002</td>\n",
       "      <td>181.119995</td>\n",
       "      <td>181.119995</td>\n",
       "      <td>52722800</td>\n",
       "    </tr>\n",
       "    <tr>\n",
       "      <th>2662</th>\n",
       "      <td>2023-08-24</td>\n",
       "      <td>180.669998</td>\n",
       "      <td>181.100006</td>\n",
       "      <td>176.009995</td>\n",
       "      <td>176.380005</td>\n",
       "      <td>176.380005</td>\n",
       "      <td>54945800</td>\n",
       "    </tr>\n",
       "    <tr>\n",
       "      <th>2663</th>\n",
       "      <td>2023-08-25</td>\n",
       "      <td>177.380005</td>\n",
       "      <td>179.149994</td>\n",
       "      <td>175.820007</td>\n",
       "      <td>178.610001</td>\n",
       "      <td>178.610001</td>\n",
       "      <td>51418700</td>\n",
       "    </tr>\n",
       "  </tbody>\n",
       "</table>\n",
       "</div>"
      ],
      "text/plain": [
       "            Date        Open        High         Low       Close   Adj Close  \\\n",
       "2659  2023-08-21  175.070007  176.130005  173.740005  175.839996  175.839996   \n",
       "2660  2023-08-22  177.059998  177.679993  176.250000  177.229996  177.229996   \n",
       "2661  2023-08-23  178.520004  181.550003  178.330002  181.119995  181.119995   \n",
       "2662  2023-08-24  180.669998  181.100006  176.009995  176.380005  176.380005   \n",
       "2663  2023-08-25  177.380005  179.149994  175.820007  178.610001  178.610001   \n",
       "\n",
       "        Volume  \n",
       "2659  46311900  \n",
       "2660  42084200  \n",
       "2661  52722800  \n",
       "2662  54945800  \n",
       "2663  51418700  "
      ]
     },
     "execution_count": 7,
     "metadata": {},
     "output_type": "execute_result"
    }
   ],
   "source": [
    "df.tail()"
   ]
  },
  {
   "cell_type": "code",
   "execution_count": 8,
   "id": "3f60c3d5",
   "metadata": {},
   "outputs": [],
   "source": [
    "df1 = df.reset_index()['Close']"
   ]
  },
  {
   "cell_type": "code",
   "execution_count": 9,
   "id": "b466dcbe",
   "metadata": {},
   "outputs": [
    {
     "data": {
      "text/plain": [
       "0        16.065357\n",
       "1        16.366785\n",
       "2        16.315357\n",
       "3        16.267500\n",
       "4        16.200714\n",
       "           ...    \n",
       "2659    175.839996\n",
       "2660    177.229996\n",
       "2661    181.119995\n",
       "2662    176.380005\n",
       "2663    178.610001\n",
       "Name: Close, Length: 2664, dtype: float64"
      ]
     },
     "execution_count": 9,
     "metadata": {},
     "output_type": "execute_result"
    }
   ],
   "source": [
    "df1"
   ]
  },
  {
   "cell_type": "code",
   "execution_count": 10,
   "id": "761574c5",
   "metadata": {},
   "outputs": [
    {
     "data": {
      "text/plain": [
       "[<matplotlib.lines.Line2D at 0x2483b0ce4f0>]"
      ]
     },
     "execution_count": 10,
     "metadata": {},
     "output_type": "execute_result"
    },
    {
     "data": {
      "image/png": "[encoded data removed]",
      "text/plain": [
       "<Figure size 432x288 with 1 Axes>"
      ]
     },
     "metadata": {
      "needs_background": "light"
     },
     "output_type": "display_data"
    }
   ],
   "source": [
    "import matplotlib.pyplot as plt\n",
    "plt.plot(df1)"
   ]
  },
  {
   "cell_type": "code",
   "execution_count": 11,
   "id": "8372c5d1",
   "metadata": {},
   "outputs": [],
   "source": [
    "### LSTM are sensitive to the scale of the data , so we apply MinMax scaler"
   ]
  },
  {
   "cell_type": "code",
   "execution_count": 12,
   "id": "63ee9539",
   "metadata": {},
   "outputs": [],
   "source": [
    "import numpy as np"
   ]
  },
  {
   "cell_type": "code",
   "execution_count": 13,
   "id": "c5b8e379",
   "metadata": {},
   "outputs": [
    {
     "name": "stderr",
     "output_type": "stream",
     "text": [
      "C:\\ProgramData\\Anaconda3\\lib\\site-packages\\scipy\\__init__.py:146: UserWarning: A NumPy version >=1.16.5 and <1.23.0 is required for this version of SciPy (detected version 1.25.2\n",
      "  warnings.warn(f\"A NumPy version >={np_minversion} and <{np_maxversion}\"\n"
     ]
    }
   ],
   "source": [
    "from sklearn.preprocessing import MinMaxScaler\n",
    "scaler = MinMaxScaler(feature_range=(0,1))\n",
    "df1 = scaler.fit_transform(np.array(df1).reshape(-1,1))"
   ]
  },
  {
   "cell_type": "code",
   "execution_count": 14,
   "id": "4bcf509b",
   "metadata": {},
   "outputs": [
    {
     "name": "stdout",
     "output_type": "stream",
     "text": [
      "[[0.01160454]\n",
      " [0.01325617]\n",
      " [0.01297438]\n",
      " ...\n",
      " [0.91600114]\n",
      " [0.89002895]\n",
      " [0.90224793]]\n"
     ]
    }
   ],
   "source": [
    "print(df1)"
   ]
  },
  {
   "cell_type": "code",
   "execution_count": 15,
   "id": "de3a2e42",
   "metadata": {},
   "outputs": [],
   "source": [
    "##splitting dataset into train and test split\n",
    "training_size=int(len(df1)*0.65)\n",
    "test_size=len(df1)-training_size\n",
    "train_data,test_data=df1[0:training_size,:],df1[training_size:len(df1),:1]"
   ]
  },
  {
   "cell_type": "code",
   "execution_count": 16,
   "id": "8aceaba2",
   "metadata": {},
   "outputs": [
    {
     "data": {
      "text/plain": [
       "(1731, 933)"
      ]
     },
     "execution_count": 16,
     "metadata": {},
     "output_type": "execute_result"
    }
   ],
   "source": [
    "training_size, test_size"
   ]
  },
  {
   "cell_type": "code",
   "execution_count": 17,
   "id": "53a7a124",
   "metadata": {},
   "outputs": [
    {
     "name": "stdout",
     "output_type": "stream",
     "text": [
      "[[0.01160454]\n",
      " [0.01325617]\n",
      " [0.01297438]\n",
      " ...\n",
      " [0.29440692]\n",
      " [0.28921524]\n",
      " [0.29135219]]\n"
     ]
    }
   ],
   "source": [
    "print(train_data)"
   ]
  },
  {
   "cell_type": "code",
   "execution_count": 18,
   "id": "aa57cbd2",
   "metadata": {},
   "outputs": [],
   "source": [
    "import numpy\n",
    "# convert an array of values into a dataset matrix\n",
    "def create_dataset(dataset, time_step=1):\n",
    "\tdataX, dataY = [], []\n",
    "\tfor i in range(len(dataset)-time_step-1):\n",
    "\t\ta = dataset[i:(i+time_step), 0]   ###i=0, 0,1,2,3-----99   100 \n",
    "\t\tdataX.append(a)\n",
    "\t\tdataY.append(dataset[i + time_step, 0])\n",
    "\treturn numpy.array(dataX), numpy.array(dataY)"
   ]
  },
  {
   "cell_type": "code",
   "execution_count": 19,
   "id": "06245668",
   "metadata": {},
   "outputs": [],
   "source": [
    "    # reshape into X=t,t+1,t+2,t+3 and Y=t+4\n",
    "time_step = 100\n",
    "X_train, y_train = create_dataset(train_data, time_step)\n",
    "X_test, ytest = create_dataset(test_data, time_step)"
   ]
  },
  {
   "cell_type": "code",
   "execution_count": 20,
   "id": "387188b5",
   "metadata": {},
   "outputs": [
    {
     "name": "stdout",
     "output_type": "stream",
     "text": [
      "(1630, 100)\n",
      "(1630,)\n"
     ]
    },
    {
     "data": {
      "text/plain": [
       "(None, None)"
      ]
     },
     "execution_count": 20,
     "metadata": {},
     "output_type": "execute_result"
    }
   ],
   "source": [
    "print(X_train.shape), print(y_train.shape)"
   ]
  },
  {
   "cell_type": "code",
   "execution_count": 21,
   "id": "61eab34f",
   "metadata": {},
   "outputs": [
    {
     "name": "stdout",
     "output_type": "stream",
     "text": [
      "(832, 100)\n",
      "(832,)\n"
     ]
    },
    {
     "data": {
      "text/plain": [
       "(None, None)"
      ]
     },
     "execution_count": 21,
     "metadata": {},
     "output_type": "execute_result"
    }
   ],
   "source": [
    "print(X_test.shape), print(ytest.shape)"
   ]
  },
  {
   "cell_type": "code",
   "execution_count": 22,
   "id": "4264dfc4",
   "metadata": {},
   "outputs": [],
   "source": [
    "# reshape input to be [samples, time steps, features] which is required for LSTM\n",
    "X_train =X_train.reshape(X_train.shape[0],X_train.shape[1] , 1)\n",
    "X_test = X_test.reshape(X_test.shape[0],X_test.shape[1] , 1)"
   ]
  },
  {
   "cell_type": "code",
   "execution_count": 23,
   "id": "4c258e98",
   "metadata": {},
   "outputs": [
    {
     "name": "stdout",
     "output_type": "stream",
     "text": [
      "Defaulting to user installation because normal site-packages is not writeable\n",
      "Requirement already satisfied: tensorflow in c:\\users\\am421\\appdata\\roaming\\python\\python39\\site-packages (2.13.0)\n",
      "Requirement already satisfied: tensorflow-intel==2.13.0 in c:\\users\\am421\\appdata\\roaming\\python\\python39\\site-packages (from tensorflow) (2.13.0)\n",
      "Collecting numpy<=1.24.3,>=1.22\n",
      "  Using cached numpy-1.24.3-cp39-cp39-win_amd64.whl (14.9 MB)\n",
      "Requirement already satisfied: flatbuffers>=23.1.21 in c:\\users\\am421\\appdata\\roaming\\python\\python39\\site-packages (from tensorflow-intel==2.13.0->tensorflow) (23.5.26)\n",
      "Requirement already satisfied: google-pasta>=0.1.1 in c:\\users\\am421\\appdata\\roaming\\python\\python39\\site-packages (from tensorflow-intel==2.13.0->tensorflow) (0.2.0)\n",
      "Requirement already satisfied: opt-einsum>=2.3.2 in c:\\users\\am421\\appdata\\roaming\\python\\python39\\site-packages (from tensorflow-intel==2.13.0->tensorflow) (3.3.0)\n",
      "Requirement already satisfied: wrapt>=1.11.0 in c:\\programdata\\anaconda3\\lib\\site-packages (from tensorflow-intel==2.13.0->tensorflow) (1.12.1)\n",
      "Requirement already satisfied: packaging in c:\\programdata\\anaconda3\\lib\\site-packages (from tensorflow-intel==2.13.0->tensorflow) (21.3)\n",
      "Requirement already satisfied: six>=1.12.0 in c:\\programdata\\anaconda3\\lib\\site-packages (from tensorflow-intel==2.13.0->tensorflow) (1.16.0)\n",
      "Requirement already satisfied: astunparse>=1.6.0 in c:\\users\\am421\\appdata\\roaming\\python\\python39\\site-packages (from tensorflow-intel==2.13.0->tensorflow) (1.6.3)\n",
      "Requirement already satisfied: h5py>=2.9.0 in c:\\programdata\\anaconda3\\lib\\site-packages (from tensorflow-intel==2.13.0->tensorflow) (3.6.0)\n",
      "Requirement already satisfied: gast<=0.4.0,>=0.2.1 in c:\\users\\am421\\appdata\\roaming\\python\\python39\\site-packages (from tensorflow-intel==2.13.0->tensorflow) (0.4.0)\n",
      "Requirement already satisfied: absl-py>=1.0.0 in c:\\users\\am421\\appdata\\roaming\\python\\python39\\site-packages (from tensorflow-intel==2.13.0->tensorflow) (1.4.0)\n",
      "Requirement already satisfied: termcolor>=1.1.0 in c:\\users\\am421\\appdata\\roaming\\python\\python39\\site-packages (from tensorflow-intel==2.13.0->tensorflow) (2.3.0)\n",
      "Requirement already satisfied: setuptools in c:\\programdata\\anaconda3\\lib\\site-packages (from tensorflow-intel==2.13.0->tensorflow) (61.2.0)\n",
      "Requirement already satisfied: libclang>=13.0.0 in c:\\users\\am421\\appdata\\roaming\\python\\python39\\site-packages (from tensorflow-intel==2.13.0->tensorflow) (16.0.6)\n",
      "Requirement already satisfied: tensorflow-estimator<2.14,>=2.13.0 in c:\\users\\am421\\appdata\\roaming\\python\\python39\\site-packages (from tensorflow-intel==2.13.0->tensorflow) (2.13.0)\n",
      "Requirement already satisfied: tensorflow-io-gcs-filesystem>=0.23.1 in c:\\users\\am421\\appdata\\roaming\\python\\python39\\site-packages (from tensorflow-intel==2.13.0->tensorflow) (0.31.0)\n",
      "Requirement already satisfied: tensorboard<2.14,>=2.13 in c:\\users\\am421\\appdata\\roaming\\python\\python39\\site-packages (from tensorflow-intel==2.13.0->tensorflow) (2.13.0)\n",
      "Requirement already satisfied: keras<2.14,>=2.13.1 in c:\\users\\am421\\appdata\\roaming\\python\\python39\\site-packages (from tensorflow-intel==2.13.0->tensorflow) (2.13.1)\n",
      "Requirement already satisfied: grpcio<2.0,>=1.24.3 in c:\\users\\am421\\appdata\\roaming\\python\\python39\\site-packages (from tensorflow-intel==2.13.0->tensorflow) (1.57.0)\n",
      "Requirement already satisfied: typing-extensions<4.6.0,>=3.6.6 in c:\\programdata\\anaconda3\\lib\\site-packages (from tensorflow-intel==2.13.0->tensorflow) (4.1.1)\n",
      "Requirement already satisfied: protobuf!=4.21.0,!=4.21.1,!=4.21.2,!=4.21.3,!=4.21.4,!=4.21.5,<5.0.0dev,>=3.20.3 in c:\\users\\am421\\appdata\\roaming\\python\\python39\\site-packages (from tensorflow-intel==2.13.0->tensorflow) (4.21.12)\n",
      "Requirement already satisfied: wheel<1.0,>=0.23.0 in c:\\programdata\\anaconda3\\lib\\site-packages (from astunparse>=1.6.0->tensorflow-intel==2.13.0->tensorflow) (0.37.1)\n",
      "Requirement already satisfied: werkzeug>=1.0.1 in c:\\programdata\\anaconda3\\lib\\site-packages (from tensorboard<2.14,>=2.13->tensorflow-intel==2.13.0->tensorflow) (2.0.3)\n",
      "Requirement already satisfied: markdown>=2.6.8 in c:\\programdata\\anaconda3\\lib\\site-packages (from tensorboard<2.14,>=2.13->tensorflow-intel==2.13.0->tensorflow) (3.3.4)\n",
      "Requirement already satisfied: tensorboard-data-server<0.8.0,>=0.7.0 in c:\\users\\am421\\appdata\\roaming\\python\\python39\\site-packages (from tensorboard<2.14,>=2.13->tensorflow-intel==2.13.0->tensorflow) (0.7.1)\n",
      "Requirement already satisfied: google-auth-oauthlib<1.1,>=0.5 in c:\\users\\am421\\appdata\\roaming\\python\\python39\\site-packages (from tensorboard<2.14,>=2.13->tensorflow-intel==2.13.0->tensorflow) (1.0.0)\n",
      "Requirement already satisfied: google-auth<3,>=1.6.3 in c:\\users\\am421\\appdata\\roaming\\python\\python39\\site-packages (from tensorboard<2.14,>=2.13->tensorflow-intel==2.13.0->tensorflow) (2.22.0)\n",
      "Requirement already satisfied: requests<3,>=2.21.0 in c:\\programdata\\anaconda3\\lib\\site-packages (from tensorboard<2.14,>=2.13->tensorflow-intel==2.13.0->tensorflow) (2.27.1)\n",
      "Requirement already satisfied: pyasn1-modules>=0.2.1 in c:\\programdata\\anaconda3\\lib\\site-packages (from google-auth<3,>=1.6.3->tensorboard<2.14,>=2.13->tensorflow-intel==2.13.0->tensorflow) (0.2.8)\n",
      "Requirement already satisfied: cachetools<6.0,>=2.0.0 in c:\\programdata\\anaconda3\\lib\\site-packages (from google-auth<3,>=1.6.3->tensorboard<2.14,>=2.13->tensorflow-intel==2.13.0->tensorflow) (4.2.2)\n",
      "Requirement already satisfied: rsa<5,>=3.1.4 in c:\\programdata\\anaconda3\\lib\\site-packages (from google-auth<3,>=1.6.3->tensorboard<2.14,>=2.13->tensorflow-intel==2.13.0->tensorflow) (4.7.2)\n",
      "Requirement already satisfied: urllib3<2.0 in c:\\programdata\\anaconda3\\lib\\site-packages (from google-auth<3,>=1.6.3->tensorboard<2.14,>=2.13->tensorflow-intel==2.13.0->tensorflow) (1.26.9)\n",
      "Requirement already satisfied: requests-oauthlib>=0.7.0 in c:\\users\\am421\\appdata\\roaming\\python\\python39\\site-packages (from google-auth-oauthlib<1.1,>=0.5->tensorboard<2.14,>=2.13->tensorflow-intel==2.13.0->tensorflow) (1.3.1)\n",
      "Requirement already satisfied: pyasn1<0.5.0,>=0.4.6 in c:\\programdata\\anaconda3\\lib\\site-packages (from pyasn1-modules>=0.2.1->google-auth<3,>=1.6.3->tensorboard<2.14,>=2.13->tensorflow-intel==2.13.0->tensorflow) (0.4.8)\n",
      "Requirement already satisfied: charset-normalizer~=2.0.0 in c:\\programdata\\anaconda3\\lib\\site-packages (from requests<3,>=2.21.0->tensorboard<2.14,>=2.13->tensorflow-intel==2.13.0->tensorflow) (2.0.4)\n",
      "Requirement already satisfied: idna<4,>=2.5 in c:\\programdata\\anaconda3\\lib\\site-packages (from requests<3,>=2.21.0->tensorboard<2.14,>=2.13->tensorflow-intel==2.13.0->tensorflow) (3.3)\n",
      "Requirement already satisfied: certifi>=2017.4.17 in c:\\programdata\\anaconda3\\lib\\site-packages (from requests<3,>=2.21.0->tensorboard<2.14,>=2.13->tensorflow-intel==2.13.0->tensorflow) (2021.10.8)\n",
      "Requirement already satisfied: oauthlib>=3.0.0 in c:\\users\\am421\\appdata\\roaming\\python\\python39\\site-packages (from requests-oauthlib>=0.7.0->google-auth-oauthlib<1.1,>=0.5->tensorboard<2.14,>=2.13->tensorflow-intel==2.13.0->tensorflow) (3.2.2)\n",
      "Requirement already satisfied: pyparsing!=3.0.5,>=2.0.2 in c:\\programdata\\anaconda3\\lib\\site-packages (from packaging->tensorflow-intel==2.13.0->tensorflow) (3.0.4)\n",
      "Installing collected packages: numpy\n",
      "  Attempting uninstall: numpy\n",
      "    Found existing installation: numpy 1.25.2\n",
      "    Uninstalling numpy-1.25.2:\n",
      "      Successfully uninstalled numpy-1.25.2\n",
      "Note: you may need to restart the kernel to use updated packages.\n"
     ]
    },
    {
     "name": "stderr",
     "output_type": "stream",
     "text": [
      "  WARNING: The script f2py.exe is installed in 'C:\\Users\\am421\\AppData\\Roaming\\Python\\Python39\\Scripts' which is not on PATH.\n",
      "  Consider adding this directory to PATH or, if you prefer to suppress this warning, use --no-warn-script-location.\n",
      "ERROR: Could not install packages due to an OSError: [WinError 5] Access is denied: 'C:\\\\Users\\\\am421\\\\AppData\\\\Roaming\\\\Python\\\\Python39\\\\site-packages\\\\~umpy\\\\.libs\\\\libopenblas64__v0.3.23-246-g3d31191b-gcc_10_3_0.dll'\n",
      "Check the permissions.\n",
      "\n"
     ]
    }
   ],
   "source": [
    "pip install --upgrade tensorflow\n"
   ]
  },
  {
   "cell_type": "code",
   "execution_count": 24,
   "id": "bedb52fe",
   "metadata": {},
   "outputs": [
    {
     "name": "stdout",
     "output_type": "stream",
     "text": [
      "Defaulting to user installation because normal site-packages is not writeable\n",
      "Requirement already satisfied: numpy in c:\\users\\am421\\appdata\\roaming\\python\\python39\\site-packages (1.24.3)\n",
      "Collecting numpy\n",
      "  Using cached numpy-1.25.2-cp39-cp39-win_amd64.whl (15.6 MB)\n",
      "Installing collected packages: numpy\n",
      "  Attempting uninstall: numpy\n",
      "    Found existing installation: numpy 1.24.3\n",
      "    Uninstalling numpy-1.24.3:\n",
      "      Successfully uninstalled numpy-1.24.3\n",
      "Successfully installed numpy-1.25.2\n",
      "Note: you may need to restart the kernel to use updated packages.\n"
     ]
    },
    {
     "name": "stderr",
     "output_type": "stream",
     "text": [
      "  WARNING: The script f2py.exe is installed in 'C:\\Users\\am421\\AppData\\Roaming\\Python\\Python39\\Scripts' which is not on PATH.\n",
      "  Consider adding this directory to PATH or, if you prefer to suppress this warning, use --no-warn-script-location.\n",
      "ERROR: pip's dependency resolver does not currently take into account all the packages that are installed. This behaviour is the source of the following dependency conflicts.\n",
      "daal4py 2021.5.0 requires daal==2021.4.0, which is not installed.\n",
      "tensorflow-intel 2.13.0 requires numpy<=1.24.3,>=1.22, but you have numpy 1.25.2 which is incompatible.\n",
      "scipy 1.7.3 requires numpy<1.23.0,>=1.16.5, but you have numpy 1.25.2 which is incompatible.\n",
      "numba 0.55.1 requires numpy<1.22,>=1.18, but you have numpy 1.25.2 which is incompatible.\n"
     ]
    }
   ],
   "source": [
    "pip install --upgrade numpy"
   ]
  },
  {
   "cell_type": "code",
   "execution_count": 25,
   "id": "46b75dbd",
   "metadata": {},
   "outputs": [],
   "source": [
    "### Create the Stacked LSTM model\n",
    "from tensorflow.keras.models import Sequential\n",
    "from tensorflow.keras.layers import Dense\n",
    "from tensorflow.keras.layers import LSTM"
   ]
  },
  {
   "cell_type": "code",
   "execution_count": 26,
   "id": "4da1715d",
   "metadata": {},
   "outputs": [],
   "source": [
    "model=Sequential()\n",
    "model.add(LSTM(50,return_sequences=True,input_shape=(100,1)))\n",
    "model.add(LSTM(50,return_sequences=True))\n",
    "model.add(LSTM(50))\n",
    "model.add(Dense(1))\n",
    "model.compile(loss='mean_squared_error',optimizer='adam')\n"
   ]
  },
  {
   "cell_type": "code",
   "execution_count": 27,
   "id": "f3a9f773",
   "metadata": {},
   "outputs": [
    {
     "name": "stdout",
     "output_type": "stream",
     "text": [
      "Model: \"sequential\"\n",
      "_________________________________________________________________\n",
      " Layer (type)                Output Shape              Param #   \n",
      "=================================================================\n",
      " lstm (LSTM)                 (None, 100, 50)           10400     \n",
      "                                                                 \n",
      " lstm_1 (LSTM)               (None, 100, 50)           20200     \n",
      "                                                                 \n",
      " lstm_2 (LSTM)               (None, 50)                20200     \n",
      "                                                                 \n",
      " dense (Dense)               (None, 1)                 51        \n",
      "                                                                 \n",
      "=================================================================\n",
      "Total params: 50851 (198.64 KB)\n",
      "Trainable params: 50851 (198.64 KB)\n",
      "Non-trainable params: 0 (0.00 Byte)\n",
      "_________________________________________________________________\n"
     ]
    }
   ],
   "source": [
    "model.summary()"
   ]
  },
  {
   "cell_type": "code",
   "execution_count": 28,
   "id": "86d1bfb3",
   "metadata": {},
   "outputs": [
    {
     "name": "stdout",
     "output_type": "stream",
     "text": [
      "Model: \"sequential\"\n",
      "_________________________________________________________________\n",
      " Layer (type)                Output Shape              Param #   \n",
      "=================================================================\n",
      " lstm (LSTM)                 (None, 100, 50)           10400     \n",
      "                                                                 \n",
      " lstm_1 (LSTM)               (None, 100, 50)           20200     \n",
      "                                                                 \n",
      " lstm_2 (LSTM)               (None, 50)                20200     \n",
      "                                                                 \n",
      " dense (Dense)               (None, 1)                 51        \n",
      "                                                                 \n",
      "=================================================================\n",
      "Total params: 50851 (198.64 KB)\n",
      "Trainable params: 50851 (198.64 KB)\n",
      "Non-trainable params: 0 (0.00 Byte)\n",
      "_________________________________________________________________\n"
     ]
    }
   ],
   "source": [
    "model.summary()"
   ]
  },
  {
   "cell_type": "code",
   "execution_count": 29,
   "id": "76a0ff36",
   "metadata": {
    "scrolled": true
   },
   "outputs": [
    {
     "name": "stdout",
     "output_type": "stream",
     "text": [
      "Epoch 1/100\n",
      "26/26 [==============================] - 10s 219ms/step - loss: 0.0024 - val_loss: 0.0075\n",
      "Epoch 2/100\n",
      "26/26 [==============================] - 5s 194ms/step - loss: 1.6770e-04 - val_loss: 0.0057\n",
      "Epoch 3/100\n",
      "26/26 [==============================] - 5s 189ms/step - loss: 1.0999e-04 - val_loss: 0.0036\n",
      "Epoch 4/100\n",
      "26/26 [==============================] - 5s 176ms/step - loss: 9.5945e-05 - val_loss: 0.0032\n",
      "Epoch 5/100\n",
      "26/26 [==============================] - 5s 187ms/step - loss: 9.0139e-05 - val_loss: 0.0025\n",
      "Epoch 6/100\n",
      "26/26 [==============================] - 5s 188ms/step - loss: 8.6518e-05 - val_loss: 0.0018\n",
      "Epoch 7/100\n",
      "26/26 [==============================] - 5s 202ms/step - loss: 8.2666e-05 - val_loss: 0.0015\n",
      "Epoch 8/100\n",
      "26/26 [==============================] - 5s 175ms/step - loss: 9.0727e-05 - val_loss: 0.0017\n",
      "Epoch 9/100\n",
      "26/26 [==============================] - 5s 194ms/step - loss: 7.5296e-05 - val_loss: 0.0015\n",
      "Epoch 10/100\n",
      "26/26 [==============================] - 4s 169ms/step - loss: 8.4629e-05 - val_loss: 0.0016\n",
      "Epoch 11/100\n",
      "26/26 [==============================] - 5s 195ms/step - loss: 7.0870e-05 - val_loss: 0.0012\n",
      "Epoch 12/100\n",
      "26/26 [==============================] - 4s 170ms/step - loss: 6.4211e-05 - val_loss: 0.0012\n",
      "Epoch 13/100\n",
      "26/26 [==============================] - 5s 202ms/step - loss: 6.2975e-05 - val_loss: 0.0011\n",
      "Epoch 14/100\n",
      "26/26 [==============================] - 4s 172ms/step - loss: 5.7952e-05 - val_loss: 0.0012\n",
      "Epoch 15/100\n",
      "26/26 [==============================] - 5s 199ms/step - loss: 5.7199e-05 - val_loss: 0.0011\n",
      "Epoch 16/100\n",
      "26/26 [==============================] - 5s 182ms/step - loss: 7.0619e-05 - val_loss: 0.0013\n",
      "Epoch 17/100\n",
      "26/26 [==============================] - 5s 201ms/step - loss: 5.9584e-05 - val_loss: 0.0011\n",
      "Epoch 18/100\n",
      "26/26 [==============================] - 5s 173ms/step - loss: 5.3277e-05 - val_loss: 0.0012\n",
      "Epoch 19/100\n",
      "26/26 [==============================] - 5s 199ms/step - loss: 5.2688e-05 - val_loss: 0.0021\n",
      "Epoch 20/100\n",
      "26/26 [==============================] - 5s 184ms/step - loss: 5.4441e-05 - val_loss: 0.0011\n",
      "Epoch 21/100\n",
      "26/26 [==============================] - 5s 197ms/step - loss: 4.9192e-05 - val_loss: 0.0015\n",
      "Epoch 22/100\n",
      "26/26 [==============================] - 5s 204ms/step - loss: 5.1351e-05 - val_loss: 0.0011\n",
      "Epoch 23/100\n",
      "26/26 [==============================] - 5s 192ms/step - loss: 5.1702e-05 - val_loss: 0.0010\n",
      "Epoch 24/100\n",
      "26/26 [==============================] - 4s 165ms/step - loss: 4.8453e-05 - val_loss: 0.0011\n",
      "Epoch 25/100\n",
      "26/26 [==============================] - 4s 155ms/step - loss: 4.6546e-05 - val_loss: 0.0027\n",
      "Epoch 26/100\n",
      "26/26 [==============================] - 4s 168ms/step - loss: 6.8468e-05 - val_loss: 0.0069\n",
      "Epoch 27/100\n",
      "26/26 [==============================] - 5s 175ms/step - loss: 8.1798e-05 - val_loss: 9.1895e-04\n",
      "Epoch 28/100\n",
      "26/26 [==============================] - 5s 185ms/step - loss: 5.1596e-05 - val_loss: 0.0013\n",
      "Epoch 29/100\n",
      "26/26 [==============================] - 5s 209ms/step - loss: 4.6236e-05 - val_loss: 9.9820e-04\n",
      "Epoch 30/100\n",
      "26/26 [==============================] - 5s 197ms/step - loss: 4.7980e-05 - val_loss: 9.3036e-04\n",
      "Epoch 31/100\n",
      "26/26 [==============================] - 5s 203ms/step - loss: 4.4735e-05 - val_loss: 9.8121e-04\n",
      "Epoch 32/100\n",
      "26/26 [==============================] - 5s 191ms/step - loss: 4.6166e-05 - val_loss: 0.0024\n",
      "Epoch 33/100\n",
      "26/26 [==============================] - 5s 198ms/step - loss: 4.6920e-05 - val_loss: 9.2627e-04\n",
      "Epoch 34/100\n",
      "26/26 [==============================] - 4s 158ms/step - loss: 4.9187e-05 - val_loss: 9.4718e-04\n",
      "Epoch 35/100\n",
      "26/26 [==============================] - 4s 174ms/step - loss: 4.0551e-05 - val_loss: 0.0011\n",
      "Epoch 36/100\n",
      "26/26 [==============================] - 4s 156ms/step - loss: 4.0337e-05 - val_loss: 9.6729e-04\n",
      "Epoch 37/100\n",
      "26/26 [==============================] - 4s 151ms/step - loss: 4.5370e-05 - val_loss: 0.0010\n",
      "Epoch 38/100\n",
      "26/26 [==============================] - 4s 155ms/step - loss: 4.1262e-05 - val_loss: 0.0010\n",
      "Epoch 39/100\n",
      "26/26 [==============================] - 4s 153ms/step - loss: 3.9960e-05 - val_loss: 9.3695e-04\n",
      "Epoch 40/100\n",
      "26/26 [==============================] - 4s 152ms/step - loss: 3.7933e-05 - val_loss: 9.3798e-04\n",
      "Epoch 41/100\n",
      "26/26 [==============================] - 4s 154ms/step - loss: 3.8138e-05 - val_loss: 9.2472e-04\n",
      "Epoch 42/100\n",
      "26/26 [==============================] - 4s 152ms/step - loss: 3.9139e-05 - val_loss: 0.0010\n",
      "Epoch 43/100\n",
      "26/26 [==============================] - 4s 153ms/step - loss: 3.6791e-05 - val_loss: 9.2004e-04\n",
      "Epoch 44/100\n",
      "26/26 [==============================] - 4s 152ms/step - loss: 3.7880e-05 - val_loss: 9.3842e-04\n",
      "Epoch 45/100\n",
      "26/26 [==============================] - 4s 151ms/step - loss: 3.6124e-05 - val_loss: 0.0011\n",
      "Epoch 46/100\n",
      "26/26 [==============================] - 4s 159ms/step - loss: 3.8596e-05 - val_loss: 9.1705e-04\n",
      "Epoch 47/100\n",
      "26/26 [==============================] - 4s 154ms/step - loss: 3.6995e-05 - val_loss: 8.9906e-04\n",
      "Epoch 48/100\n",
      "26/26 [==============================] - 4s 152ms/step - loss: 3.4335e-05 - val_loss: 9.8902e-04\n",
      "Epoch 49/100\n",
      "26/26 [==============================] - 4s 152ms/step - loss: 3.7884e-05 - val_loss: 8.9022e-04\n",
      "Epoch 50/100\n",
      "26/26 [==============================] - 4s 151ms/step - loss: 3.5529e-05 - val_loss: 0.0013\n",
      "Epoch 51/100\n",
      "26/26 [==============================] - 4s 154ms/step - loss: 3.5497e-05 - val_loss: 9.6573e-04\n",
      "Epoch 52/100\n",
      "26/26 [==============================] - 4s 152ms/step - loss: 3.5459e-05 - val_loss: 9.0367e-04\n",
      "Epoch 53/100\n",
      "26/26 [==============================] - 4s 153ms/step - loss: 3.5517e-05 - val_loss: 0.0012\n",
      "Epoch 54/100\n",
      "26/26 [==============================] - 4s 151ms/step - loss: 3.3668e-05 - val_loss: 0.0010\n",
      "Epoch 55/100\n",
      "26/26 [==============================] - 4s 151ms/step - loss: 3.2336e-05 - val_loss: 8.9680e-04\n",
      "Epoch 56/100\n",
      "26/26 [==============================] - 4s 151ms/step - loss: 3.1885e-05 - val_loss: 8.6963e-04\n",
      "Epoch 57/100\n",
      "26/26 [==============================] - 4s 151ms/step - loss: 3.5766e-05 - val_loss: 8.7631e-04\n",
      "Epoch 58/100\n",
      "26/26 [==============================] - 4s 151ms/step - loss: 3.6863e-05 - val_loss: 0.0010\n",
      "Epoch 59/100\n",
      "26/26 [==============================] - 4s 152ms/step - loss: 3.7822e-05 - val_loss: 8.4865e-04\n",
      "Epoch 60/100\n",
      "26/26 [==============================] - 4s 152ms/step - loss: 3.2770e-05 - val_loss: 8.2946e-04\n",
      "Epoch 61/100\n",
      "26/26 [==============================] - 4s 157ms/step - loss: 3.0566e-05 - val_loss: 8.4117e-04\n",
      "Epoch 62/100\n",
      "26/26 [==============================] - 4s 155ms/step - loss: 3.9509e-05 - val_loss: 0.0011\n",
      "Epoch 63/100\n",
      "26/26 [==============================] - 4s 152ms/step - loss: 3.4390e-05 - val_loss: 0.0011\n",
      "Epoch 64/100\n",
      "26/26 [==============================] - 4s 151ms/step - loss: 3.6788e-05 - val_loss: 8.2463e-04\n",
      "Epoch 65/100\n",
      "26/26 [==============================] - 4s 152ms/step - loss: 3.5885e-05 - val_loss: 0.0012\n",
      "Epoch 66/100\n",
      "26/26 [==============================] - 4s 152ms/step - loss: 3.6653e-05 - val_loss: 0.0013\n",
      "Epoch 67/100\n",
      "26/26 [==============================] - 4s 152ms/step - loss: 2.8039e-05 - val_loss: 8.1936e-04\n",
      "Epoch 68/100\n",
      "26/26 [==============================] - 4s 154ms/step - loss: 2.6518e-05 - val_loss: 0.0013\n",
      "Epoch 69/100\n",
      "26/26 [==============================] - 4s 153ms/step - loss: 2.9423e-05 - val_loss: 8.3512e-04\n",
      "Epoch 70/100\n",
      "26/26 [==============================] - 4s 152ms/step - loss: 3.0279e-05 - val_loss: 7.4739e-04\n",
      "Epoch 71/100\n",
      "26/26 [==============================] - 4s 156ms/step - loss: 2.7017e-05 - val_loss: 7.5162e-04\n",
      "Epoch 72/100\n",
      "26/26 [==============================] - 4s 155ms/step - loss: 2.9089e-05 - val_loss: 0.0010\n",
      "Epoch 73/100\n",
      "26/26 [==============================] - 4s 154ms/step - loss: 2.7006e-05 - val_loss: 0.0013\n",
      "Epoch 74/100\n",
      "26/26 [==============================] - 4s 159ms/step - loss: 2.5487e-05 - val_loss: 0.0016\n",
      "Epoch 75/100\n",
      "26/26 [==============================] - 4s 151ms/step - loss: 2.7291e-05 - val_loss: 8.3078e-04\n",
      "Epoch 76/100\n",
      "26/26 [==============================] - 4s 152ms/step - loss: 2.9703e-05 - val_loss: 0.0012\n",
      "Epoch 77/100\n"
     ]
    },
    {
     "name": "stdout",
     "output_type": "stream",
     "text": [
      "26/26 [==============================] - 4s 150ms/step - loss: 3.5766e-05 - val_loss: 8.6411e-04\n",
      "Epoch 78/100\n",
      "26/26 [==============================] - 4s 151ms/step - loss: 2.5898e-05 - val_loss: 0.0016\n",
      "Epoch 79/100\n",
      "26/26 [==============================] - 4s 150ms/step - loss: 2.5020e-05 - val_loss: 7.0309e-04\n",
      "Epoch 80/100\n",
      "26/26 [==============================] - 4s 150ms/step - loss: 2.7514e-05 - val_loss: 6.8532e-04\n",
      "Epoch 81/100\n",
      "26/26 [==============================] - 4s 151ms/step - loss: 2.4176e-05 - val_loss: 7.7237e-04\n",
      "Epoch 82/100\n",
      "26/26 [==============================] - 4s 156ms/step - loss: 2.3338e-05 - val_loss: 7.9876e-04\n",
      "Epoch 83/100\n",
      "26/26 [==============================] - 4s 152ms/step - loss: 2.4794e-05 - val_loss: 9.0556e-04\n",
      "Epoch 84/100\n",
      "26/26 [==============================] - 4s 151ms/step - loss: 2.3341e-05 - val_loss: 6.4930e-04\n",
      "Epoch 85/100\n",
      "26/26 [==============================] - 4s 150ms/step - loss: 2.3400e-05 - val_loss: 6.5721e-04\n",
      "Epoch 86/100\n",
      "26/26 [==============================] - 4s 157ms/step - loss: 2.5085e-05 - val_loss: 7.2996e-04\n",
      "Epoch 87/100\n",
      "26/26 [==============================] - 4s 150ms/step - loss: 2.5357e-05 - val_loss: 6.3209e-04\n",
      "Epoch 88/100\n",
      "26/26 [==============================] - 4s 153ms/step - loss: 2.6644e-05 - val_loss: 0.0012\n",
      "Epoch 89/100\n",
      "26/26 [==============================] - 4s 151ms/step - loss: 2.2239e-05 - val_loss: 7.4549e-04\n",
      "Epoch 90/100\n",
      "26/26 [==============================] - 4s 152ms/step - loss: 2.3968e-05 - val_loss: 0.0022\n",
      "Epoch 91/100\n",
      "26/26 [==============================] - 4s 150ms/step - loss: 2.7119e-05 - val_loss: 0.0014\n",
      "Epoch 92/100\n",
      "26/26 [==============================] - 4s 151ms/step - loss: 2.1695e-05 - val_loss: 0.0012\n",
      "Epoch 93/100\n",
      "26/26 [==============================] - 4s 153ms/step - loss: 2.2918e-05 - val_loss: 9.5944e-04\n",
      "Epoch 94/100\n",
      "26/26 [==============================] - 4s 152ms/step - loss: 2.0593e-05 - val_loss: 8.2631e-04\n",
      "Epoch 95/100\n",
      "26/26 [==============================] - 4s 151ms/step - loss: 2.3784e-05 - val_loss: 7.4008e-04\n",
      "Epoch 96/100\n",
      "26/26 [==============================] - 4s 149ms/step - loss: 2.6707e-05 - val_loss: 5.3305e-04\n",
      "Epoch 97/100\n",
      "26/26 [==============================] - 5s 191ms/step - loss: 2.0532e-05 - val_loss: 7.2612e-04\n",
      "Epoch 98/100\n",
      "26/26 [==============================] - 4s 166ms/step - loss: 1.9329e-05 - val_loss: 5.6938e-04\n",
      "Epoch 99/100\n",
      "26/26 [==============================] - 4s 165ms/step - loss: 2.0477e-05 - val_loss: 5.8530e-04\n",
      "Epoch 100/100\n",
      "26/26 [==============================] - 4s 166ms/step - loss: 2.1010e-05 - val_loss: 0.0014\n"
     ]
    },
    {
     "data": {
      "text/plain": [
       "<keras.src.callbacks.History at 0x24846be93d0>"
      ]
     },
     "execution_count": 29,
     "metadata": {},
     "output_type": "execute_result"
    }
   ],
   "source": [
    "model.fit(X_train,y_train,validation_data=(X_test,ytest),epochs=100,batch_size=64,verbose=1)"
   ]
  },
  {
   "cell_type": "code",
   "execution_count": 30,
   "id": "1574541e",
   "metadata": {},
   "outputs": [],
   "source": [
    "import tensorflow as tf"
   ]
  },
  {
   "cell_type": "code",
   "execution_count": 31,
   "id": "da2168c4",
   "metadata": {},
   "outputs": [
    {
     "data": {
      "text/plain": [
       "'2.13.0'"
      ]
     },
     "execution_count": 31,
     "metadata": {},
     "output_type": "execute_result"
    }
   ],
   "source": [
    "tf.__version__"
   ]
  },
  {
   "cell_type": "code",
   "execution_count": 32,
   "id": "100c57a8",
   "metadata": {},
   "outputs": [
    {
     "name": "stdout",
     "output_type": "stream",
     "text": [
      "51/51 [==============================] - 3s 38ms/step\n",
      "26/26 [==============================] - 1s 38ms/step\n"
     ]
    }
   ],
   "source": [
    "### Lets Do the prediction and check performance metrics\n",
    "train_predict=model.predict(X_train)\n",
    "test_predict=model.predict(X_test)"
   ]
  },
  {
   "cell_type": "code",
   "execution_count": 33,
   "id": "ed365b94",
   "metadata": {},
   "outputs": [],
   "source": [
    "##Transformback to original form\n",
    "train_predict=scaler.inverse_transform(train_predict)\n",
    "test_predict=scaler.inverse_transform(test_predict)"
   ]
  },
  {
   "cell_type": "code",
   "execution_count": 34,
   "id": "364bf836",
   "metadata": {},
   "outputs": [
    {
     "data": {
      "text/plain": [
       "36.59532593558466"
      ]
     },
     "execution_count": 34,
     "metadata": {},
     "output_type": "execute_result"
    }
   ],
   "source": [
    "### Calculate RMSE performance metrics\n",
    "import math\n",
    "from sklearn.metrics import mean_squared_error\n",
    "math.sqrt(mean_squared_error(y_train,train_predict))"
   ]
  },
  {
   "cell_type": "code",
   "execution_count": 35,
   "id": "3bf8751c",
   "metadata": {},
   "outputs": [
    {
     "data": {
      "text/plain": [
       "150.27742439101962"
      ]
     },
     "execution_count": 35,
     "metadata": {},
     "output_type": "execute_result"
    }
   ],
   "source": [
    "### Test Data RMSE\n",
    "math.sqrt(mean_squared_error(ytest,test_predict))"
   ]
  },
  {
   "cell_type": "code",
   "execution_count": 36,
   "id": "1745ae28",
   "metadata": {},
   "outputs": [
    {
     "data": {
      "image/png": "[encoded data removed]",
      "text/plain": [
       "<Figure size 432x288 with 1 Axes>"
      ]
     },
     "metadata": {
      "needs_background": "light"
     },
     "output_type": "display_data"
    }
   ],
   "source": [
    "### Plotting \n",
    "# shift train predictions for plotting\n",
    "look_back=100\n",
    "trainPredictPlot = numpy.empty_like(df1)\n",
    "trainPredictPlot[:, :] = np.nan\n",
    "trainPredictPlot[look_back:len(train_predict)+look_back, :] = train_predict\n",
    "# shift test predictions for plotting\n",
    "testPredictPlot = numpy.empty_like(df1)\n",
    "testPredictPlot[:, :] = numpy.nan\n",
    "testPredictPlot[len(train_predict)+(look_back*2)+1:len(df1)-1, :] = test_predict\n",
    "# plot baseline and predictions\n",
    "plt.plot(scaler.inverse_transform(df1))\n",
    "plt.plot(trainPredictPlot)\n",
    "plt.plot(testPredictPlot)\n",
    "plt.show()"
   ]
  },
  {
   "cell_type": "code",
   "execution_count": 37,
   "id": "7c0d2900",
   "metadata": {},
   "outputs": [
    {
     "data": {
      "text/plain": [
       "933"
      ]
     },
     "execution_count": 37,
     "metadata": {},
     "output_type": "execute_result"
    }
   ],
   "source": [
    "len(test_data)"
   ]
  },
  {
   "cell_type": "code",
   "execution_count": 63,
   "id": "8fb48563",
   "metadata": {},
   "outputs": [
    {
     "data": {
      "text/plain": [
       "(1, 100)"
      ]
     },
     "execution_count": 63,
     "metadata": {},
     "output_type": "execute_result"
    }
   ],
   "source": [
    "x_input=test_data[833:].reshape(1,-1)\n",
    "x_input.shape"
   ]
  },
  {
   "cell_type": "code",
   "execution_count": 64,
   "id": "f4745318",
   "metadata": {},
   "outputs": [],
   "source": [
    "temp_input=list(x_input)\n",
    "temp_input=temp_input[0].tolist()"
   ]
  },
  {
   "cell_type": "code",
   "execution_count": 65,
   "id": "733f87e3",
   "metadata": {},
   "outputs": [
    {
     "data": {
      "text/plain": [
       "[0.8311256420782013,\n",
       " 0.8208791521356554,\n",
       " 0.8258106408264649,\n",
       " 0.8113998516962757,\n",
       " 0.8046602397993492,\n",
       " 0.800824692278046,\n",
       " 0.8307420473266183,\n",
       " 0.8288243146612947,\n",
       " 0.828933841929845,\n",
       " 0.8357282969120143,\n",
       " 0.8420843962480141,\n",
       " 0.8367145464316579,\n",
       " 0.8277832165770312,\n",
       " 0.8294818125145982,\n",
       " 0.8209339952208983,\n",
       " 0.8208791521356554,\n",
       " 0.846358304894864,\n",
       " 0.8533170535195471,\n",
       " 0.852823926020037,\n",
       " 0.8470705636427539,\n",
       " 0.8410980645377142,\n",
       " 0.8320022766592613,\n",
       " 0.8746319070911123,\n",
       " 0.8742483123395293,\n",
       " 0.8647690119001495,\n",
       " 0.8745770640058695,\n",
       " 0.8756181566107558,\n",
       " 0.869152530006206,\n",
       " 0.8664128414637527,\n",
       " 0.8664128414637527,\n",
       " 0.8698100278595092,\n",
       " 0.8827413632592654,\n",
       " 0.8833441002179822,\n",
       " 0.8780838598608325,\n",
       " 0.8636183098360567,\n",
       " 0.8651525244610764,\n",
       " 0.8714538574231124,\n",
       " 0.884823471757759,\n",
       " 0.8950699617003048,\n",
       " 0.8947959764079283,\n",
       " 0.9103573854115542,\n",
       " 0.9150696551839507,\n",
       " 0.9075629359745144,\n",
       " 0.9055355938499844,\n",
       " 0.8979192597019645,\n",
       " 0.9129875466854571,\n",
       " 0.9151245037485706,\n",
       " 0.9306310641875766,\n",
       " 0.928000990583707,\n",
       " 0.9315077864386698,\n",
       " 0.9427952922748231,\n",
       " 0.9368227876904063,\n",
       " 0.9373159151899166,\n",
       " 0.9315626350032897,\n",
       " 0.9482199029857656,\n",
       " 0.9464664639629561,\n",
       " 0.938740602546386,\n",
       " 0.9540280317370124,\n",
       " 0.9605485014268051,\n",
       " 0.962411467718165,\n",
       " 0.9864111667469404,\n",
       " 0.9781373402249942,\n",
       " 0.9719456167221647,\n",
       " 0.9745756958054115,\n",
       " 0.9683839723025818,\n",
       " 0.9570417055718421,\n",
       " 0.9541376411962188,\n",
       " 0.9633977994284648,\n",
       " 0.9676168595106949,\n",
       " 0.9684388153878245,\n",
       " 0.986520776206147,\n",
       " 0.9850960888496776,\n",
       " 0.9926028902497701,\n",
       " 0.9818085119131275,\n",
       " 0.9752880367439576,\n",
       " 0.9797263212239775,\n",
       " 0.9844933518909607,\n",
       " 0.9893152311225637,\n",
       " 0.9823016339332606,\n",
       " 0.9966028136042435,\n",
       " 1.0,\n",
       " 0.995397345166187,\n",
       " 0.9787948380782976,\n",
       " 0.9710688944710713,\n",
       " 0.92076825118727,\n",
       " 0.9035630126200411,\n",
       " 0.9087684044125709,\n",
       " 0.8999466018264944,\n",
       " 0.898741133388438,\n",
       " 0.8977548016781381,\n",
       " 0.9069054381212109,\n",
       " 0.8958918353867783,\n",
       " 0.8910700383458315,\n",
       " 0.8769880008819825,\n",
       " 0.879672923050472,\n",
       " 0.887070032800702,\n",
       " 0.8946863669487218,\n",
       " 0.9160011383296306,\n",
       " 0.8900289457409452,\n",
       " 0.9022479347227781]"
      ]
     },
     "execution_count": 65,
     "metadata": {},
     "output_type": "execute_result"
    }
   ],
   "source": [
    "temp_input"
   ]
  },
  {
   "cell_type": "code",
   "execution_count": 66,
   "id": "242ec8bf",
   "metadata": {
    "scrolled": true
   },
   "outputs": [
    {
     "name": "stdout",
     "output_type": "stream",
     "text": [
      "[0.9448033]\n",
      "101\n",
      "1 day input [0.82087915 0.82581064 0.81139985 0.80466024 0.80082469 0.83074205\n",
      " 0.82882431 0.82893384 0.8357283  0.8420844  0.83671455 0.82778322\n",
      " 0.82948181 0.820934   0.82087915 0.8463583  0.85331705 0.85282393\n",
      " 0.84707056 0.84109806 0.83200228 0.87463191 0.87424831 0.86476901\n",
      " 0.87457706 0.87561816 0.86915253 0.86641284 0.86641284 0.86981003\n",
      " 0.88274136 0.8833441  0.87808386 0.86361831 0.86515252 0.87145386\n",
      " 0.88482347 0.89506996 0.89479598 0.91035739 0.91506966 0.90756294\n",
      " 0.90553559 0.89791926 0.91298755 0.9151245  0.93063106 0.92800099\n",
      " 0.93150779 0.94279529 0.93682279 0.93731592 0.93156264 0.9482199\n",
      " 0.94646646 0.9387406  0.95402803 0.9605485  0.96241147 0.98641117\n",
      " 0.97813734 0.97194562 0.9745757  0.96838397 0.95704171 0.95413764\n",
      " 0.9633978  0.96761686 0.96843882 0.98652078 0.98509609 0.99260289\n",
      " 0.98180851 0.97528804 0.97972632 0.98449335 0.98931523 0.98230163\n",
      " 0.99660281 1.         0.99539735 0.97879484 0.97106889 0.92076825\n",
      " 0.90356301 0.9087684  0.8999466  0.89874113 0.8977548  0.90690544\n",
      " 0.89589184 0.89107004 0.876988   0.87967292 0.88707003 0.89468637\n",
      " 0.91600114 0.89002895 0.90224793 0.9448033 ]\n",
      "1 day output [[0.96193564]]\n",
      "2 day input [0.82581064 0.81139985 0.80466024 0.80082469 0.83074205 0.82882431\n",
      " 0.82893384 0.8357283  0.8420844  0.83671455 0.82778322 0.82948181\n",
      " 0.820934   0.82087915 0.8463583  0.85331705 0.85282393 0.84707056\n",
      " 0.84109806 0.83200228 0.87463191 0.87424831 0.86476901 0.87457706\n",
      " 0.87561816 0.86915253 0.86641284 0.86641284 0.86981003 0.88274136\n",
      " 0.8833441  0.87808386 0.86361831 0.86515252 0.87145386 0.88482347\n",
      " 0.89506996 0.89479598 0.91035739 0.91506966 0.90756294 0.90553559\n",
      " 0.89791926 0.91298755 0.9151245  0.93063106 0.92800099 0.93150779\n",
      " 0.94279529 0.93682279 0.93731592 0.93156264 0.9482199  0.94646646\n",
      " 0.9387406  0.95402803 0.9605485  0.96241147 0.98641117 0.97813734\n",
      " 0.97194562 0.9745757  0.96838397 0.95704171 0.95413764 0.9633978\n",
      " 0.96761686 0.96843882 0.98652078 0.98509609 0.99260289 0.98180851\n",
      " 0.97528804 0.97972632 0.98449335 0.98931523 0.98230163 0.99660281\n",
      " 1.         0.99539735 0.97879484 0.97106889 0.92076825 0.90356301\n",
      " 0.9087684  0.8999466  0.89874113 0.8977548  0.90690544 0.89589184\n",
      " 0.89107004 0.876988   0.87967292 0.88707003 0.89468637 0.91600114\n",
      " 0.89002895 0.90224793 0.9448033  0.96193564]\n",
      "2 day output [[0.9903707]]\n",
      "3 day input [0.81139985 0.80466024 0.80082469 0.83074205 0.82882431 0.82893384\n",
      " 0.8357283  0.8420844  0.83671455 0.82778322 0.82948181 0.820934\n",
      " 0.82087915 0.8463583  0.85331705 0.85282393 0.84707056 0.84109806\n",
      " 0.83200228 0.87463191 0.87424831 0.86476901 0.87457706 0.87561816\n",
      " 0.86915253 0.86641284 0.86641284 0.86981003 0.88274136 0.8833441\n",
      " 0.87808386 0.86361831 0.86515252 0.87145386 0.88482347 0.89506996\n",
      " 0.89479598 0.91035739 0.91506966 0.90756294 0.90553559 0.89791926\n",
      " 0.91298755 0.9151245  0.93063106 0.92800099 0.93150779 0.94279529\n",
      " 0.93682279 0.93731592 0.93156264 0.9482199  0.94646646 0.9387406\n",
      " 0.95402803 0.9605485  0.96241147 0.98641117 0.97813734 0.97194562\n",
      " 0.9745757  0.96838397 0.95704171 0.95413764 0.9633978  0.96761686\n",
      " 0.96843882 0.98652078 0.98509609 0.99260289 0.98180851 0.97528804\n",
      " 0.97972632 0.98449335 0.98931523 0.98230163 0.99660281 1.\n",
      " 0.99539735 0.97879484 0.97106889 0.92076825 0.90356301 0.9087684\n",
      " 0.8999466  0.89874113 0.8977548  0.90690544 0.89589184 0.89107004\n",
      " 0.876988   0.87967292 0.88707003 0.89468637 0.91600114 0.89002895\n",
      " 0.90224793 0.9448033  0.96193564 0.99037069]\n",
      "3 day output [[1.0271564]]\n",
      "4 day input [0.80466024 0.80082469 0.83074205 0.82882431 0.82893384 0.8357283\n",
      " 0.8420844  0.83671455 0.82778322 0.82948181 0.820934   0.82087915\n",
      " 0.8463583  0.85331705 0.85282393 0.84707056 0.84109806 0.83200228\n",
      " 0.87463191 0.87424831 0.86476901 0.87457706 0.87561816 0.86915253\n",
      " 0.86641284 0.86641284 0.86981003 0.88274136 0.8833441  0.87808386\n",
      " 0.86361831 0.86515252 0.87145386 0.88482347 0.89506996 0.89479598\n",
      " 0.91035739 0.91506966 0.90756294 0.90553559 0.89791926 0.91298755\n",
      " 0.9151245  0.93063106 0.92800099 0.93150779 0.94279529 0.93682279\n",
      " 0.93731592 0.93156264 0.9482199  0.94646646 0.9387406  0.95402803\n",
      " 0.9605485  0.96241147 0.98641117 0.97813734 0.97194562 0.9745757\n",
      " 0.96838397 0.95704171 0.95413764 0.9633978  0.96761686 0.96843882\n",
      " 0.98652078 0.98509609 0.99260289 0.98180851 0.97528804 0.97972632\n",
      " 0.98449335 0.98931523 0.98230163 0.99660281 1.         0.99539735\n",
      " 0.97879484 0.97106889 0.92076825 0.90356301 0.9087684  0.8999466\n",
      " 0.89874113 0.8977548  0.90690544 0.89589184 0.89107004 0.876988\n",
      " 0.87967292 0.88707003 0.89468637 0.91600114 0.89002895 0.90224793\n",
      " 0.9448033  0.96193564 0.99037069 1.02715635]\n",
      "4 day output [[1.0710659]]\n",
      "5 day input [0.80082469 0.83074205 0.82882431 0.82893384 0.8357283  0.8420844\n",
      " 0.83671455 0.82778322 0.82948181 0.820934   0.82087915 0.8463583\n",
      " 0.85331705 0.85282393 0.84707056 0.84109806 0.83200228 0.87463191\n",
      " 0.87424831 0.86476901 0.87457706 0.87561816 0.86915253 0.86641284\n",
      " 0.86641284 0.86981003 0.88274136 0.8833441  0.87808386 0.86361831\n",
      " 0.86515252 0.87145386 0.88482347 0.89506996 0.89479598 0.91035739\n",
      " 0.91506966 0.90756294 0.90553559 0.89791926 0.91298755 0.9151245\n",
      " 0.93063106 0.92800099 0.93150779 0.94279529 0.93682279 0.93731592\n",
      " 0.93156264 0.9482199  0.94646646 0.9387406  0.95402803 0.9605485\n",
      " 0.96241147 0.98641117 0.97813734 0.97194562 0.9745757  0.96838397\n",
      " 0.95704171 0.95413764 0.9633978  0.96761686 0.96843882 0.98652078\n",
      " 0.98509609 0.99260289 0.98180851 0.97528804 0.97972632 0.98449335\n",
      " 0.98931523 0.98230163 0.99660281 1.         0.99539735 0.97879484\n",
      " 0.97106889 0.92076825 0.90356301 0.9087684  0.8999466  0.89874113\n",
      " 0.8977548  0.90690544 0.89589184 0.89107004 0.876988   0.87967292\n",
      " 0.88707003 0.89468637 0.91600114 0.89002895 0.90224793 0.9448033\n",
      " 0.96193564 0.99037069 1.02715635 1.0710659 ]\n",
      "5 day output [[1.1222162]]\n",
      "6 day input [0.83074205 0.82882431 0.82893384 0.8357283  0.8420844  0.83671455\n",
      " 0.82778322 0.82948181 0.820934   0.82087915 0.8463583  0.85331705\n",
      " 0.85282393 0.84707056 0.84109806 0.83200228 0.87463191 0.87424831\n",
      " 0.86476901 0.87457706 0.87561816 0.86915253 0.86641284 0.86641284\n",
      " 0.86981003 0.88274136 0.8833441  0.87808386 0.86361831 0.86515252\n",
      " 0.87145386 0.88482347 0.89506996 0.89479598 0.91035739 0.91506966\n",
      " 0.90756294 0.90553559 0.89791926 0.91298755 0.9151245  0.93063106\n",
      " 0.92800099 0.93150779 0.94279529 0.93682279 0.93731592 0.93156264\n",
      " 0.9482199  0.94646646 0.9387406  0.95402803 0.9605485  0.96241147\n",
      " 0.98641117 0.97813734 0.97194562 0.9745757  0.96838397 0.95704171\n",
      " 0.95413764 0.9633978  0.96761686 0.96843882 0.98652078 0.98509609\n",
      " 0.99260289 0.98180851 0.97528804 0.97972632 0.98449335 0.98931523\n",
      " 0.98230163 0.99660281 1.         0.99539735 0.97879484 0.97106889\n",
      " 0.92076825 0.90356301 0.9087684  0.8999466  0.89874113 0.8977548\n",
      " 0.90690544 0.89589184 0.89107004 0.876988   0.87967292 0.88707003\n",
      " 0.89468637 0.91600114 0.89002895 0.90224793 0.9448033  0.96193564\n",
      " 0.99037069 1.02715635 1.0710659  1.12221622]\n",
      "6 day output [[1.1812459]]\n",
      "7 day input [0.82882431 0.82893384 0.8357283  0.8420844  0.83671455 0.82778322\n",
      " 0.82948181 0.820934   0.82087915 0.8463583  0.85331705 0.85282393\n",
      " 0.84707056 0.84109806 0.83200228 0.87463191 0.87424831 0.86476901\n",
      " 0.87457706 0.87561816 0.86915253 0.86641284 0.86641284 0.86981003\n",
      " 0.88274136 0.8833441  0.87808386 0.86361831 0.86515252 0.87145386\n",
      " 0.88482347 0.89506996 0.89479598 0.91035739 0.91506966 0.90756294\n",
      " 0.90553559 0.89791926 0.91298755 0.9151245  0.93063106 0.92800099\n",
      " 0.93150779 0.94279529 0.93682279 0.93731592 0.93156264 0.9482199\n",
      " 0.94646646 0.9387406  0.95402803 0.9605485  0.96241147 0.98641117\n",
      " 0.97813734 0.97194562 0.9745757  0.96838397 0.95704171 0.95413764\n",
      " 0.9633978  0.96761686 0.96843882 0.98652078 0.98509609 0.99260289\n",
      " 0.98180851 0.97528804 0.97972632 0.98449335 0.98931523 0.98230163\n",
      " 0.99660281 1.         0.99539735 0.97879484 0.97106889 0.92076825\n",
      " 0.90356301 0.9087684  0.8999466  0.89874113 0.8977548  0.90690544\n",
      " 0.89589184 0.89107004 0.876988   0.87967292 0.88707003 0.89468637\n",
      " 0.91600114 0.89002895 0.90224793 0.9448033  0.96193564 0.99037069\n",
      " 1.02715635 1.0710659  1.12221622 1.18124592]\n",
      "7 day output [[1.24885]]\n",
      "8 day input [0.82893384 0.8357283  0.8420844  0.83671455 0.82778322 0.82948181\n",
      " 0.820934   0.82087915 0.8463583  0.85331705 0.85282393 0.84707056\n",
      " 0.84109806 0.83200228 0.87463191 0.87424831 0.86476901 0.87457706\n",
      " 0.87561816 0.86915253 0.86641284 0.86641284 0.86981003 0.88274136\n",
      " 0.8833441  0.87808386 0.86361831 0.86515252 0.87145386 0.88482347\n",
      " 0.89506996 0.89479598 0.91035739 0.91506966 0.90756294 0.90553559\n",
      " 0.89791926 0.91298755 0.9151245  0.93063106 0.92800099 0.93150779\n",
      " 0.94279529 0.93682279 0.93731592 0.93156264 0.9482199  0.94646646\n",
      " 0.9387406  0.95402803 0.9605485  0.96241147 0.98641117 0.97813734\n",
      " 0.97194562 0.9745757  0.96838397 0.95704171 0.95413764 0.9633978\n",
      " 0.96761686 0.96843882 0.98652078 0.98509609 0.99260289 0.98180851\n",
      " 0.97528804 0.97972632 0.98449335 0.98931523 0.98230163 0.99660281\n",
      " 1.         0.99539735 0.97879484 0.97106889 0.92076825 0.90356301\n",
      " 0.9087684  0.8999466  0.89874113 0.8977548  0.90690544 0.89589184\n",
      " 0.89107004 0.876988   0.87967292 0.88707003 0.89468637 0.91600114\n",
      " 0.89002895 0.90224793 0.9448033  0.96193564 0.99037069 1.02715635\n",
      " 1.0710659  1.12221622 1.18124592 1.24884999]\n",
      "8 day output [[1.3255551]]\n",
      "9 day input [0.8357283  0.8420844  0.83671455 0.82778322 0.82948181 0.820934\n",
      " 0.82087915 0.8463583  0.85331705 0.85282393 0.84707056 0.84109806\n",
      " 0.83200228 0.87463191 0.87424831 0.86476901 0.87457706 0.87561816\n",
      " 0.86915253 0.86641284 0.86641284 0.86981003 0.88274136 0.8833441\n",
      " 0.87808386 0.86361831 0.86515252 0.87145386 0.88482347 0.89506996\n",
      " 0.89479598 0.91035739 0.91506966 0.90756294 0.90553559 0.89791926\n",
      " 0.91298755 0.9151245  0.93063106 0.92800099 0.93150779 0.94279529\n",
      " 0.93682279 0.93731592 0.93156264 0.9482199  0.94646646 0.9387406\n",
      " 0.95402803 0.9605485  0.96241147 0.98641117 0.97813734 0.97194562\n",
      " 0.9745757  0.96838397 0.95704171 0.95413764 0.9633978  0.96761686\n",
      " 0.96843882 0.98652078 0.98509609 0.99260289 0.98180851 0.97528804\n",
      " 0.97972632 0.98449335 0.98931523 0.98230163 0.99660281 1.\n",
      " 0.99539735 0.97879484 0.97106889 0.92076825 0.90356301 0.9087684\n",
      " 0.8999466  0.89874113 0.8977548  0.90690544 0.89589184 0.89107004\n",
      " 0.876988   0.87967292 0.88707003 0.89468637 0.91600114 0.89002895\n",
      " 0.90224793 0.9448033  0.96193564 0.99037069 1.02715635 1.0710659\n",
      " 1.12221622 1.18124592 1.24884999 1.32555509]\n",
      "9 day output [[1.4115405]]\n",
      "10 day input [0.8420844  0.83671455 0.82778322 0.82948181 0.820934   0.82087915\n",
      " 0.8463583  0.85331705 0.85282393 0.84707056 0.84109806 0.83200228\n",
      " 0.87463191 0.87424831 0.86476901 0.87457706 0.87561816 0.86915253\n",
      " 0.86641284 0.86641284 0.86981003 0.88274136 0.8833441  0.87808386\n",
      " 0.86361831 0.86515252 0.87145386 0.88482347 0.89506996 0.89479598\n",
      " 0.91035739 0.91506966 0.90756294 0.90553559 0.89791926 0.91298755\n",
      " 0.9151245  0.93063106 0.92800099 0.93150779 0.94279529 0.93682279\n",
      " 0.93731592 0.93156264 0.9482199  0.94646646 0.9387406  0.95402803\n",
      " 0.9605485  0.96241147 0.98641117 0.97813734 0.97194562 0.9745757\n",
      " 0.96838397 0.95704171 0.95413764 0.9633978  0.96761686 0.96843882\n",
      " 0.98652078 0.98509609 0.99260289 0.98180851 0.97528804 0.97972632\n",
      " 0.98449335 0.98931523 0.98230163 0.99660281 1.         0.99539735\n",
      " 0.97879484 0.97106889 0.92076825 0.90356301 0.9087684  0.8999466\n",
      " 0.89874113 0.8977548  0.90690544 0.89589184 0.89107004 0.876988\n",
      " 0.87967292 0.88707003 0.89468637 0.91600114 0.89002895 0.90224793\n",
      " 0.9448033  0.96193564 0.99037069 1.02715635 1.0710659  1.12221622\n",
      " 1.18124592 1.24884999 1.32555509 1.41154051]\n"
     ]
    },
    {
     "name": "stdout",
     "output_type": "stream",
     "text": [
      "10 day output [[1.5064355]]\n",
      "11 day input [0.83671455 0.82778322 0.82948181 0.820934   0.82087915 0.8463583\n",
      " 0.85331705 0.85282393 0.84707056 0.84109806 0.83200228 0.87463191\n",
      " 0.87424831 0.86476901 0.87457706 0.87561816 0.86915253 0.86641284\n",
      " 0.86641284 0.86981003 0.88274136 0.8833441  0.87808386 0.86361831\n",
      " 0.86515252 0.87145386 0.88482347 0.89506996 0.89479598 0.91035739\n",
      " 0.91506966 0.90756294 0.90553559 0.89791926 0.91298755 0.9151245\n",
      " 0.93063106 0.92800099 0.93150779 0.94279529 0.93682279 0.93731592\n",
      " 0.93156264 0.9482199  0.94646646 0.9387406  0.95402803 0.9605485\n",
      " 0.96241147 0.98641117 0.97813734 0.97194562 0.9745757  0.96838397\n",
      " 0.95704171 0.95413764 0.9633978  0.96761686 0.96843882 0.98652078\n",
      " 0.98509609 0.99260289 0.98180851 0.97528804 0.97972632 0.98449335\n",
      " 0.98931523 0.98230163 0.99660281 1.         0.99539735 0.97879484\n",
      " 0.97106889 0.92076825 0.90356301 0.9087684  0.8999466  0.89874113\n",
      " 0.8977548  0.90690544 0.89589184 0.89107004 0.876988   0.87967292\n",
      " 0.88707003 0.89468637 0.91600114 0.89002895 0.90224793 0.9448033\n",
      " 0.96193564 0.99037069 1.02715635 1.0710659  1.12221622 1.18124592\n",
      " 1.24884999 1.32555509 1.41154051 1.50643551]\n",
      "11 day output [[1.60911]]\n",
      "12 day input [0.82778322 0.82948181 0.820934   0.82087915 0.8463583  0.85331705\n",
      " 0.85282393 0.84707056 0.84109806 0.83200228 0.87463191 0.87424831\n",
      " 0.86476901 0.87457706 0.87561816 0.86915253 0.86641284 0.86641284\n",
      " 0.86981003 0.88274136 0.8833441  0.87808386 0.86361831 0.86515252\n",
      " 0.87145386 0.88482347 0.89506996 0.89479598 0.91035739 0.91506966\n",
      " 0.90756294 0.90553559 0.89791926 0.91298755 0.9151245  0.93063106\n",
      " 0.92800099 0.93150779 0.94279529 0.93682279 0.93731592 0.93156264\n",
      " 0.9482199  0.94646646 0.9387406  0.95402803 0.9605485  0.96241147\n",
      " 0.98641117 0.97813734 0.97194562 0.9745757  0.96838397 0.95704171\n",
      " 0.95413764 0.9633978  0.96761686 0.96843882 0.98652078 0.98509609\n",
      " 0.99260289 0.98180851 0.97528804 0.97972632 0.98449335 0.98931523\n",
      " 0.98230163 0.99660281 1.         0.99539735 0.97879484 0.97106889\n",
      " 0.92076825 0.90356301 0.9087684  0.8999466  0.89874113 0.8977548\n",
      " 0.90690544 0.89589184 0.89107004 0.876988   0.87967292 0.88707003\n",
      " 0.89468637 0.91600114 0.89002895 0.90224793 0.9448033  0.96193564\n",
      " 0.99037069 1.02715635 1.0710659  1.12221622 1.18124592 1.24884999\n",
      " 1.32555509 1.41154051 1.50643551 1.60911   ]\n",
      "12 day output [[1.7175457]]\n",
      "13 day input [0.82948181 0.820934   0.82087915 0.8463583  0.85331705 0.85282393\n",
      " 0.84707056 0.84109806 0.83200228 0.87463191 0.87424831 0.86476901\n",
      " 0.87457706 0.87561816 0.86915253 0.86641284 0.86641284 0.86981003\n",
      " 0.88274136 0.8833441  0.87808386 0.86361831 0.86515252 0.87145386\n",
      " 0.88482347 0.89506996 0.89479598 0.91035739 0.91506966 0.90756294\n",
      " 0.90553559 0.89791926 0.91298755 0.9151245  0.93063106 0.92800099\n",
      " 0.93150779 0.94279529 0.93682279 0.93731592 0.93156264 0.9482199\n",
      " 0.94646646 0.9387406  0.95402803 0.9605485  0.96241147 0.98641117\n",
      " 0.97813734 0.97194562 0.9745757  0.96838397 0.95704171 0.95413764\n",
      " 0.9633978  0.96761686 0.96843882 0.98652078 0.98509609 0.99260289\n",
      " 0.98180851 0.97528804 0.97972632 0.98449335 0.98931523 0.98230163\n",
      " 0.99660281 1.         0.99539735 0.97879484 0.97106889 0.92076825\n",
      " 0.90356301 0.9087684  0.8999466  0.89874113 0.8977548  0.90690544\n",
      " 0.89589184 0.89107004 0.876988   0.87967292 0.88707003 0.89468637\n",
      " 0.91600114 0.89002895 0.90224793 0.9448033  0.96193564 0.99037069\n",
      " 1.02715635 1.0710659  1.12221622 1.18124592 1.24884999 1.32555509\n",
      " 1.41154051 1.50643551 1.60911    1.71754575]\n",
      "13 day output [[1.8288847]]\n",
      "14 day input [0.820934   0.82087915 0.8463583  0.85331705 0.85282393 0.84707056\n",
      " 0.84109806 0.83200228 0.87463191 0.87424831 0.86476901 0.87457706\n",
      " 0.87561816 0.86915253 0.86641284 0.86641284 0.86981003 0.88274136\n",
      " 0.8833441  0.87808386 0.86361831 0.86515252 0.87145386 0.88482347\n",
      " 0.89506996 0.89479598 0.91035739 0.91506966 0.90756294 0.90553559\n",
      " 0.89791926 0.91298755 0.9151245  0.93063106 0.92800099 0.93150779\n",
      " 0.94279529 0.93682279 0.93731592 0.93156264 0.9482199  0.94646646\n",
      " 0.9387406  0.95402803 0.9605485  0.96241147 0.98641117 0.97813734\n",
      " 0.97194562 0.9745757  0.96838397 0.95704171 0.95413764 0.9633978\n",
      " 0.96761686 0.96843882 0.98652078 0.98509609 0.99260289 0.98180851\n",
      " 0.97528804 0.97972632 0.98449335 0.98931523 0.98230163 0.99660281\n",
      " 1.         0.99539735 0.97879484 0.97106889 0.92076825 0.90356301\n",
      " 0.9087684  0.8999466  0.89874113 0.8977548  0.90690544 0.89589184\n",
      " 0.89107004 0.876988   0.87967292 0.88707003 0.89468637 0.91600114\n",
      " 0.89002895 0.90224793 0.9448033  0.96193564 0.99037069 1.02715635\n",
      " 1.0710659  1.12221622 1.18124592 1.24884999 1.32555509 1.41154051\n",
      " 1.50643551 1.60911    1.71754575 1.82888472]\n",
      "14 day output [[1.9397123]]\n",
      "15 day input [0.82087915 0.8463583  0.85331705 0.85282393 0.84707056 0.84109806\n",
      " 0.83200228 0.87463191 0.87424831 0.86476901 0.87457706 0.87561816\n",
      " 0.86915253 0.86641284 0.86641284 0.86981003 0.88274136 0.8833441\n",
      " 0.87808386 0.86361831 0.86515252 0.87145386 0.88482347 0.89506996\n",
      " 0.89479598 0.91035739 0.91506966 0.90756294 0.90553559 0.89791926\n",
      " 0.91298755 0.9151245  0.93063106 0.92800099 0.93150779 0.94279529\n",
      " 0.93682279 0.93731592 0.93156264 0.9482199  0.94646646 0.9387406\n",
      " 0.95402803 0.9605485  0.96241147 0.98641117 0.97813734 0.97194562\n",
      " 0.9745757  0.96838397 0.95704171 0.95413764 0.9633978  0.96761686\n",
      " 0.96843882 0.98652078 0.98509609 0.99260289 0.98180851 0.97528804\n",
      " 0.97972632 0.98449335 0.98931523 0.98230163 0.99660281 1.\n",
      " 0.99539735 0.97879484 0.97106889 0.92076825 0.90356301 0.9087684\n",
      " 0.8999466  0.89874113 0.8977548  0.90690544 0.89589184 0.89107004\n",
      " 0.876988   0.87967292 0.88707003 0.89468637 0.91600114 0.89002895\n",
      " 0.90224793 0.9448033  0.96193564 0.99037069 1.02715635 1.0710659\n",
      " 1.12221622 1.18124592 1.24884999 1.32555509 1.41154051 1.50643551\n",
      " 1.60911    1.71754575 1.82888472 1.93971229]\n",
      "15 day output [[2.046535]]\n",
      "16 day input [0.8463583  0.85331705 0.85282393 0.84707056 0.84109806 0.83200228\n",
      " 0.87463191 0.87424831 0.86476901 0.87457706 0.87561816 0.86915253\n",
      " 0.86641284 0.86641284 0.86981003 0.88274136 0.8833441  0.87808386\n",
      " 0.86361831 0.86515252 0.87145386 0.88482347 0.89506996 0.89479598\n",
      " 0.91035739 0.91506966 0.90756294 0.90553559 0.89791926 0.91298755\n",
      " 0.9151245  0.93063106 0.92800099 0.93150779 0.94279529 0.93682279\n",
      " 0.93731592 0.93156264 0.9482199  0.94646646 0.9387406  0.95402803\n",
      " 0.9605485  0.96241147 0.98641117 0.97813734 0.97194562 0.9745757\n",
      " 0.96838397 0.95704171 0.95413764 0.9633978  0.96761686 0.96843882\n",
      " 0.98652078 0.98509609 0.99260289 0.98180851 0.97528804 0.97972632\n",
      " 0.98449335 0.98931523 0.98230163 0.99660281 1.         0.99539735\n",
      " 0.97879484 0.97106889 0.92076825 0.90356301 0.9087684  0.8999466\n",
      " 0.89874113 0.8977548  0.90690544 0.89589184 0.89107004 0.876988\n",
      " 0.87967292 0.88707003 0.89468637 0.91600114 0.89002895 0.90224793\n",
      " 0.9448033  0.96193564 0.99037069 1.02715635 1.0710659  1.12221622\n",
      " 1.18124592 1.24884999 1.32555509 1.41154051 1.50643551 1.60911\n",
      " 1.71754575 1.82888472 1.93971229 2.04653502]\n",
      "16 day output [[2.1462955]]\n",
      "17 day input [0.85331705 0.85282393 0.84707056 0.84109806 0.83200228 0.87463191\n",
      " 0.87424831 0.86476901 0.87457706 0.87561816 0.86915253 0.86641284\n",
      " 0.86641284 0.86981003 0.88274136 0.8833441  0.87808386 0.86361831\n",
      " 0.86515252 0.87145386 0.88482347 0.89506996 0.89479598 0.91035739\n",
      " 0.91506966 0.90756294 0.90553559 0.89791926 0.91298755 0.9151245\n",
      " 0.93063106 0.92800099 0.93150779 0.94279529 0.93682279 0.93731592\n",
      " 0.93156264 0.9482199  0.94646646 0.9387406  0.95402803 0.9605485\n",
      " 0.96241147 0.98641117 0.97813734 0.97194562 0.9745757  0.96838397\n",
      " 0.95704171 0.95413764 0.9633978  0.96761686 0.96843882 0.98652078\n",
      " 0.98509609 0.99260289 0.98180851 0.97528804 0.97972632 0.98449335\n",
      " 0.98931523 0.98230163 0.99660281 1.         0.99539735 0.97879484\n",
      " 0.97106889 0.92076825 0.90356301 0.9087684  0.8999466  0.89874113\n",
      " 0.8977548  0.90690544 0.89589184 0.89107004 0.876988   0.87967292\n",
      " 0.88707003 0.89468637 0.91600114 0.89002895 0.90224793 0.9448033\n",
      " 0.96193564 0.99037069 1.02715635 1.0710659  1.12221622 1.18124592\n",
      " 1.24884999 1.32555509 1.41154051 1.50643551 1.60911    1.71754575\n",
      " 1.82888472 1.93971229 2.04653502 2.14629555]\n",
      "17 day output [[2.2367415]]\n",
      "18 day input [0.85282393 0.84707056 0.84109806 0.83200228 0.87463191 0.87424831\n",
      " 0.86476901 0.87457706 0.87561816 0.86915253 0.86641284 0.86641284\n",
      " 0.86981003 0.88274136 0.8833441  0.87808386 0.86361831 0.86515252\n",
      " 0.87145386 0.88482347 0.89506996 0.89479598 0.91035739 0.91506966\n",
      " 0.90756294 0.90553559 0.89791926 0.91298755 0.9151245  0.93063106\n",
      " 0.92800099 0.93150779 0.94279529 0.93682279 0.93731592 0.93156264\n",
      " 0.9482199  0.94646646 0.9387406  0.95402803 0.9605485  0.96241147\n",
      " 0.98641117 0.97813734 0.97194562 0.9745757  0.96838397 0.95704171\n",
      " 0.95413764 0.9633978  0.96761686 0.96843882 0.98652078 0.98509609\n",
      " 0.99260289 0.98180851 0.97528804 0.97972632 0.98449335 0.98931523\n",
      " 0.98230163 0.99660281 1.         0.99539735 0.97879484 0.97106889\n",
      " 0.92076825 0.90356301 0.9087684  0.8999466  0.89874113 0.8977548\n",
      " 0.90690544 0.89589184 0.89107004 0.876988   0.87967292 0.88707003\n",
      " 0.89468637 0.91600114 0.89002895 0.90224793 0.9448033  0.96193564\n",
      " 0.99037069 1.02715635 1.0710659  1.12221622 1.18124592 1.24884999\n",
      " 1.32555509 1.41154051 1.50643551 1.60911    1.71754575 1.82888472\n",
      " 1.93971229 2.04653502 2.14629555 2.23674154]\n",
      "18 day output [[2.3165648]]\n",
      "19 day input [0.84707056 0.84109806 0.83200228 0.87463191 0.87424831 0.86476901\n",
      " 0.87457706 0.87561816 0.86915253 0.86641284 0.86641284 0.86981003\n",
      " 0.88274136 0.8833441  0.87808386 0.86361831 0.86515252 0.87145386\n",
      " 0.88482347 0.89506996 0.89479598 0.91035739 0.91506966 0.90756294\n",
      " 0.90553559 0.89791926 0.91298755 0.9151245  0.93063106 0.92800099\n",
      " 0.93150779 0.94279529 0.93682279 0.93731592 0.93156264 0.9482199\n",
      " 0.94646646 0.9387406  0.95402803 0.9605485  0.96241147 0.98641117\n",
      " 0.97813734 0.97194562 0.9745757  0.96838397 0.95704171 0.95413764\n",
      " 0.9633978  0.96761686 0.96843882 0.98652078 0.98509609 0.99260289\n",
      " 0.98180851 0.97528804 0.97972632 0.98449335 0.98931523 0.98230163\n",
      " 0.99660281 1.         0.99539735 0.97879484 0.97106889 0.92076825\n",
      " 0.90356301 0.9087684  0.8999466  0.89874113 0.8977548  0.90690544\n",
      " 0.89589184 0.89107004 0.876988   0.87967292 0.88707003 0.89468637\n",
      " 0.91600114 0.89002895 0.90224793 0.9448033  0.96193564 0.99037069\n",
      " 1.02715635 1.0710659  1.12221622 1.18124592 1.24884999 1.32555509\n",
      " 1.41154051 1.50643551 1.60911    1.71754575 1.82888472 1.93971229\n",
      " 2.04653502 2.14629555 2.23674154 2.3165648 ]\n",
      "19 day output [[2.3853307]]\n",
      "20 day input [0.84109806 0.83200228 0.87463191 0.87424831 0.86476901 0.87457706\n",
      " 0.87561816 0.86915253 0.86641284 0.86641284 0.86981003 0.88274136\n",
      " 0.8833441  0.87808386 0.86361831 0.86515252 0.87145386 0.88482347\n",
      " 0.89506996 0.89479598 0.91035739 0.91506966 0.90756294 0.90553559\n",
      " 0.89791926 0.91298755 0.9151245  0.93063106 0.92800099 0.93150779\n",
      " 0.94279529 0.93682279 0.93731592 0.93156264 0.9482199  0.94646646\n",
      " 0.9387406  0.95402803 0.9605485  0.96241147 0.98641117 0.97813734\n",
      " 0.97194562 0.9745757  0.96838397 0.95704171 0.95413764 0.9633978\n",
      " 0.96761686 0.96843882 0.98652078 0.98509609 0.99260289 0.98180851\n",
      " 0.97528804 0.97972632 0.98449335 0.98931523 0.98230163 0.99660281\n",
      " 1.         0.99539735 0.97879484 0.97106889 0.92076825 0.90356301\n",
      " 0.9087684  0.8999466  0.89874113 0.8977548  0.90690544 0.89589184\n",
      " 0.89107004 0.876988   0.87967292 0.88707003 0.89468637 0.91600114\n",
      " 0.89002895 0.90224793 0.9448033  0.96193564 0.99037069 1.02715635\n",
      " 1.0710659  1.12221622 1.18124592 1.24884999 1.32555509 1.41154051\n",
      " 1.50643551 1.60911    1.71754575 1.82888472 1.93971229 2.04653502\n",
      " 2.14629555 2.23674154 2.3165648  2.38533068]\n",
      "20 day output [[2.4432976]]\n",
      "21 day input [0.83200228 0.87463191 0.87424831 0.86476901 0.87457706 0.87561816\n",
      " 0.86915253 0.86641284 0.86641284 0.86981003 0.88274136 0.8833441\n",
      " 0.87808386 0.86361831 0.86515252 0.87145386 0.88482347 0.89506996\n",
      " 0.89479598 0.91035739 0.91506966 0.90756294 0.90553559 0.89791926\n",
      " 0.91298755 0.9151245  0.93063106 0.92800099 0.93150779 0.94279529\n",
      " 0.93682279 0.93731592 0.93156264 0.9482199  0.94646646 0.9387406\n",
      " 0.95402803 0.9605485  0.96241147 0.98641117 0.97813734 0.97194562\n",
      " 0.9745757  0.96838397 0.95704171 0.95413764 0.9633978  0.96761686\n",
      " 0.96843882 0.98652078 0.98509609 0.99260289 0.98180851 0.97528804\n",
      " 0.97972632 0.98449335 0.98931523 0.98230163 0.99660281 1.\n",
      " 0.99539735 0.97879484 0.97106889 0.92076825 0.90356301 0.9087684\n",
      " 0.8999466  0.89874113 0.8977548  0.90690544 0.89589184 0.89107004\n",
      " 0.876988   0.87967292 0.88707003 0.89468637 0.91600114 0.89002895\n",
      " 0.90224793 0.9448033  0.96193564 0.99037069 1.02715635 1.0710659\n",
      " 1.12221622 1.18124592 1.24884999 1.32555509 1.41154051 1.50643551\n",
      " 1.60911    1.71754575 1.82888472 1.93971229 2.04653502 2.14629555\n",
      " 2.23674154 2.3165648  2.38533068 2.44329762]\n"
     ]
    },
    {
     "name": "stdout",
     "output_type": "stream",
     "text": [
      "21 day output [[2.491205]]\n",
      "22 day input [0.87463191 0.87424831 0.86476901 0.87457706 0.87561816 0.86915253\n",
      " 0.86641284 0.86641284 0.86981003 0.88274136 0.8833441  0.87808386\n",
      " 0.86361831 0.86515252 0.87145386 0.88482347 0.89506996 0.89479598\n",
      " 0.91035739 0.91506966 0.90756294 0.90553559 0.89791926 0.91298755\n",
      " 0.9151245  0.93063106 0.92800099 0.93150779 0.94279529 0.93682279\n",
      " 0.93731592 0.93156264 0.9482199  0.94646646 0.9387406  0.95402803\n",
      " 0.9605485  0.96241147 0.98641117 0.97813734 0.97194562 0.9745757\n",
      " 0.96838397 0.95704171 0.95413764 0.9633978  0.96761686 0.96843882\n",
      " 0.98652078 0.98509609 0.99260289 0.98180851 0.97528804 0.97972632\n",
      " 0.98449335 0.98931523 0.98230163 0.99660281 1.         0.99539735\n",
      " 0.97879484 0.97106889 0.92076825 0.90356301 0.9087684  0.8999466\n",
      " 0.89874113 0.8977548  0.90690544 0.89589184 0.89107004 0.876988\n",
      " 0.87967292 0.88707003 0.89468637 0.91600114 0.89002895 0.90224793\n",
      " 0.9448033  0.96193564 0.99037069 1.02715635 1.0710659  1.12221622\n",
      " 1.18124592 1.24884999 1.32555509 1.41154051 1.50643551 1.60911\n",
      " 1.71754575 1.82888472 1.93971229 2.04653502 2.14629555 2.23674154\n",
      " 2.3165648  2.38533068 2.44329762 2.49120498]\n",
      "22 day output [[2.5300791]]\n",
      "23 day input [0.87424831 0.86476901 0.87457706 0.87561816 0.86915253 0.86641284\n",
      " 0.86641284 0.86981003 0.88274136 0.8833441  0.87808386 0.86361831\n",
      " 0.86515252 0.87145386 0.88482347 0.89506996 0.89479598 0.91035739\n",
      " 0.91506966 0.90756294 0.90553559 0.89791926 0.91298755 0.9151245\n",
      " 0.93063106 0.92800099 0.93150779 0.94279529 0.93682279 0.93731592\n",
      " 0.93156264 0.9482199  0.94646646 0.9387406  0.95402803 0.9605485\n",
      " 0.96241147 0.98641117 0.97813734 0.97194562 0.9745757  0.96838397\n",
      " 0.95704171 0.95413764 0.9633978  0.96761686 0.96843882 0.98652078\n",
      " 0.98509609 0.99260289 0.98180851 0.97528804 0.97972632 0.98449335\n",
      " 0.98931523 0.98230163 0.99660281 1.         0.99539735 0.97879484\n",
      " 0.97106889 0.92076825 0.90356301 0.9087684  0.8999466  0.89874113\n",
      " 0.8977548  0.90690544 0.89589184 0.89107004 0.876988   0.87967292\n",
      " 0.88707003 0.89468637 0.91600114 0.89002895 0.90224793 0.9448033\n",
      " 0.96193564 0.99037069 1.02715635 1.0710659  1.12221622 1.18124592\n",
      " 1.24884999 1.32555509 1.41154051 1.50643551 1.60911    1.71754575\n",
      " 1.82888472 1.93971229 2.04653502 2.14629555 2.23674154 2.3165648\n",
      " 2.38533068 2.44329762 2.49120498 2.53007913]\n",
      "23 day output [[2.5610783]]\n",
      "24 day input [0.86476901 0.87457706 0.87561816 0.86915253 0.86641284 0.86641284\n",
      " 0.86981003 0.88274136 0.8833441  0.87808386 0.86361831 0.86515252\n",
      " 0.87145386 0.88482347 0.89506996 0.89479598 0.91035739 0.91506966\n",
      " 0.90756294 0.90553559 0.89791926 0.91298755 0.9151245  0.93063106\n",
      " 0.92800099 0.93150779 0.94279529 0.93682279 0.93731592 0.93156264\n",
      " 0.9482199  0.94646646 0.9387406  0.95402803 0.9605485  0.96241147\n",
      " 0.98641117 0.97813734 0.97194562 0.9745757  0.96838397 0.95704171\n",
      " 0.95413764 0.9633978  0.96761686 0.96843882 0.98652078 0.98509609\n",
      " 0.99260289 0.98180851 0.97528804 0.97972632 0.98449335 0.98931523\n",
      " 0.98230163 0.99660281 1.         0.99539735 0.97879484 0.97106889\n",
      " 0.92076825 0.90356301 0.9087684  0.8999466  0.89874113 0.8977548\n",
      " 0.90690544 0.89589184 0.89107004 0.876988   0.87967292 0.88707003\n",
      " 0.89468637 0.91600114 0.89002895 0.90224793 0.9448033  0.96193564\n",
      " 0.99037069 1.02715635 1.0710659  1.12221622 1.18124592 1.24884999\n",
      " 1.32555509 1.41154051 1.50643551 1.60911    1.71754575 1.82888472\n",
      " 1.93971229 2.04653502 2.14629555 2.23674154 2.3165648  2.38533068\n",
      " 2.44329762 2.49120498 2.53007913 2.56107831]\n",
      "24 day output [[2.585377]]\n",
      "25 day input [0.87457706 0.87561816 0.86915253 0.86641284 0.86641284 0.86981003\n",
      " 0.88274136 0.8833441  0.87808386 0.86361831 0.86515252 0.87145386\n",
      " 0.88482347 0.89506996 0.89479598 0.91035739 0.91506966 0.90756294\n",
      " 0.90553559 0.89791926 0.91298755 0.9151245  0.93063106 0.92800099\n",
      " 0.93150779 0.94279529 0.93682279 0.93731592 0.93156264 0.9482199\n",
      " 0.94646646 0.9387406  0.95402803 0.9605485  0.96241147 0.98641117\n",
      " 0.97813734 0.97194562 0.9745757  0.96838397 0.95704171 0.95413764\n",
      " 0.9633978  0.96761686 0.96843882 0.98652078 0.98509609 0.99260289\n",
      " 0.98180851 0.97528804 0.97972632 0.98449335 0.98931523 0.98230163\n",
      " 0.99660281 1.         0.99539735 0.97879484 0.97106889 0.92076825\n",
      " 0.90356301 0.9087684  0.8999466  0.89874113 0.8977548  0.90690544\n",
      " 0.89589184 0.89107004 0.876988   0.87967292 0.88707003 0.89468637\n",
      " 0.91600114 0.89002895 0.90224793 0.9448033  0.96193564 0.99037069\n",
      " 1.02715635 1.0710659  1.12221622 1.18124592 1.24884999 1.32555509\n",
      " 1.41154051 1.50643551 1.60911    1.71754575 1.82888472 1.93971229\n",
      " 2.04653502 2.14629555 2.23674154 2.3165648  2.38533068 2.44329762\n",
      " 2.49120498 2.53007913 2.56107831 2.58537698]\n",
      "25 day output [[2.6040895]]\n",
      "26 day input [0.87561816 0.86915253 0.86641284 0.86641284 0.86981003 0.88274136\n",
      " 0.8833441  0.87808386 0.86361831 0.86515252 0.87145386 0.88482347\n",
      " 0.89506996 0.89479598 0.91035739 0.91506966 0.90756294 0.90553559\n",
      " 0.89791926 0.91298755 0.9151245  0.93063106 0.92800099 0.93150779\n",
      " 0.94279529 0.93682279 0.93731592 0.93156264 0.9482199  0.94646646\n",
      " 0.9387406  0.95402803 0.9605485  0.96241147 0.98641117 0.97813734\n",
      " 0.97194562 0.9745757  0.96838397 0.95704171 0.95413764 0.9633978\n",
      " 0.96761686 0.96843882 0.98652078 0.98509609 0.99260289 0.98180851\n",
      " 0.97528804 0.97972632 0.98449335 0.98931523 0.98230163 0.99660281\n",
      " 1.         0.99539735 0.97879484 0.97106889 0.92076825 0.90356301\n",
      " 0.9087684  0.8999466  0.89874113 0.8977548  0.90690544 0.89589184\n",
      " 0.89107004 0.876988   0.87967292 0.88707003 0.89468637 0.91600114\n",
      " 0.89002895 0.90224793 0.9448033  0.96193564 0.99037069 1.02715635\n",
      " 1.0710659  1.12221622 1.18124592 1.24884999 1.32555509 1.41154051\n",
      " 1.50643551 1.60911    1.71754575 1.82888472 1.93971229 2.04653502\n",
      " 2.14629555 2.23674154 2.3165648  2.38533068 2.44329762 2.49120498\n",
      " 2.53007913 2.56107831 2.58537698 2.6040895 ]\n",
      "26 day output [[2.618222]]\n",
      "27 day input [0.86915253 0.86641284 0.86641284 0.86981003 0.88274136 0.8833441\n",
      " 0.87808386 0.86361831 0.86515252 0.87145386 0.88482347 0.89506996\n",
      " 0.89479598 0.91035739 0.91506966 0.90756294 0.90553559 0.89791926\n",
      " 0.91298755 0.9151245  0.93063106 0.92800099 0.93150779 0.94279529\n",
      " 0.93682279 0.93731592 0.93156264 0.9482199  0.94646646 0.9387406\n",
      " 0.95402803 0.9605485  0.96241147 0.98641117 0.97813734 0.97194562\n",
      " 0.9745757  0.96838397 0.95704171 0.95413764 0.9633978  0.96761686\n",
      " 0.96843882 0.98652078 0.98509609 0.99260289 0.98180851 0.97528804\n",
      " 0.97972632 0.98449335 0.98931523 0.98230163 0.99660281 1.\n",
      " 0.99539735 0.97879484 0.97106889 0.92076825 0.90356301 0.9087684\n",
      " 0.8999466  0.89874113 0.8977548  0.90690544 0.89589184 0.89107004\n",
      " 0.876988   0.87967292 0.88707003 0.89468637 0.91600114 0.89002895\n",
      " 0.90224793 0.9448033  0.96193564 0.99037069 1.02715635 1.0710659\n",
      " 1.12221622 1.18124592 1.24884999 1.32555509 1.41154051 1.50643551\n",
      " 1.60911    1.71754575 1.82888472 1.93971229 2.04653502 2.14629555\n",
      " 2.23674154 2.3165648  2.38533068 2.44329762 2.49120498 2.53007913\n",
      " 2.56107831 2.58537698 2.6040895  2.618222  ]\n",
      "27 day output [[2.628654]]\n",
      "28 day input [0.86641284 0.86641284 0.86981003 0.88274136 0.8833441  0.87808386\n",
      " 0.86361831 0.86515252 0.87145386 0.88482347 0.89506996 0.89479598\n",
      " 0.91035739 0.91506966 0.90756294 0.90553559 0.89791926 0.91298755\n",
      " 0.9151245  0.93063106 0.92800099 0.93150779 0.94279529 0.93682279\n",
      " 0.93731592 0.93156264 0.9482199  0.94646646 0.9387406  0.95402803\n",
      " 0.9605485  0.96241147 0.98641117 0.97813734 0.97194562 0.9745757\n",
      " 0.96838397 0.95704171 0.95413764 0.9633978  0.96761686 0.96843882\n",
      " 0.98652078 0.98509609 0.99260289 0.98180851 0.97528804 0.97972632\n",
      " 0.98449335 0.98931523 0.98230163 0.99660281 1.         0.99539735\n",
      " 0.97879484 0.97106889 0.92076825 0.90356301 0.9087684  0.8999466\n",
      " 0.89874113 0.8977548  0.90690544 0.89589184 0.89107004 0.876988\n",
      " 0.87967292 0.88707003 0.89468637 0.91600114 0.89002895 0.90224793\n",
      " 0.9448033  0.96193564 0.99037069 1.02715635 1.0710659  1.12221622\n",
      " 1.18124592 1.24884999 1.32555509 1.41154051 1.50643551 1.60911\n",
      " 1.71754575 1.82888472 1.93971229 2.04653502 2.14629555 2.23674154\n",
      " 2.3165648  2.38533068 2.44329762 2.49120498 2.53007913 2.56107831\n",
      " 2.58537698 2.6040895  2.618222   2.628654  ]\n",
      "28 day output [[2.6361318]]\n",
      "29 day input [0.86641284 0.86981003 0.88274136 0.8833441  0.87808386 0.86361831\n",
      " 0.86515252 0.87145386 0.88482347 0.89506996 0.89479598 0.91035739\n",
      " 0.91506966 0.90756294 0.90553559 0.89791926 0.91298755 0.9151245\n",
      " 0.93063106 0.92800099 0.93150779 0.94279529 0.93682279 0.93731592\n",
      " 0.93156264 0.9482199  0.94646646 0.9387406  0.95402803 0.9605485\n",
      " 0.96241147 0.98641117 0.97813734 0.97194562 0.9745757  0.96838397\n",
      " 0.95704171 0.95413764 0.9633978  0.96761686 0.96843882 0.98652078\n",
      " 0.98509609 0.99260289 0.98180851 0.97528804 0.97972632 0.98449335\n",
      " 0.98931523 0.98230163 0.99660281 1.         0.99539735 0.97879484\n",
      " 0.97106889 0.92076825 0.90356301 0.9087684  0.8999466  0.89874113\n",
      " 0.8977548  0.90690544 0.89589184 0.89107004 0.876988   0.87967292\n",
      " 0.88707003 0.89468637 0.91600114 0.89002895 0.90224793 0.9448033\n",
      " 0.96193564 0.99037069 1.02715635 1.0710659  1.12221622 1.18124592\n",
      " 1.24884999 1.32555509 1.41154051 1.50643551 1.60911    1.71754575\n",
      " 1.82888472 1.93971229 2.04653502 2.14629555 2.23674154 2.3165648\n",
      " 2.38533068 2.44329762 2.49120498 2.53007913 2.56107831 2.58537698\n",
      " 2.6040895  2.618222   2.628654   2.63613176]\n"
     ]
    },
    {
     "name": "stdout",
     "output_type": "stream",
     "text": [
      "29 day output [[2.6412761]]\n",
      "[[0.9448032975196838], [0.9619356393814087], [0.9903706908226013], [1.0271563529968262], [1.071065902709961], [1.1222162246704102], [1.1812459230422974], [1.2488499879837036], [1.3255550861358643], [1.4115405082702637], [1.506435513496399], [1.6091099977493286], [1.717545747756958], [1.8288847208023071], [1.9397122859954834], [2.046535015106201], [2.1462955474853516], [2.236741542816162], [2.3165647983551025], [2.3853306770324707], [2.4432976245880127], [2.4912049770355225], [2.5300791263580322], [2.5610783100128174], [2.5853769779205322], [2.6040894985198975], [2.6182219982147217], [2.6286540031433105], [2.636131763458252], [2.6412761211395264]]\n"
     ]
    }
   ],
   "source": [
    "# demonstrate prediction for next 10 days\n",
    "from numpy import array\n",
    "\n",
    "lst_output=[]\n",
    "n_steps=100\n",
    "i=0\n",
    "while(i<30):\n",
    "    \n",
    "    if(len(temp_input)>100):\n",
    "        #print(temp_input)\n",
    "        x_input=np.array(temp_input[1:])\n",
    "        print(\"{} day input {}\".format(i,x_input))\n",
    "        x_input=x_input.reshape(1,-1)\n",
    "        x_input = x_input.reshape((1, n_steps, 1))\n",
    "        #print(x_input)\n",
    "        yhat = model.predict(x_input, verbose=0)\n",
    "        print(\"{} day output {}\".format(i,yhat))\n",
    "        temp_input.extend(yhat[0].tolist())\n",
    "        temp_input=temp_input[1:]\n",
    "        #print(temp_input)\n",
    "        lst_output.extend(yhat.tolist())\n",
    "        i=i+1\n",
    "    else:\n",
    "        x_input = x_input.reshape((1, n_steps,1))\n",
    "        yhat = model.predict(x_input, verbose=0)\n",
    "        print(yhat[0])\n",
    "        temp_input.extend(yhat[0].tolist())\n",
    "        print(len(temp_input))\n",
    "        lst_output.extend(yhat.tolist())\n",
    "        i=i+1\n",
    "    \n",
    "\n",
    "print(lst_output)"
   ]
  },
  {
   "cell_type": "code",
   "execution_count": 67,
   "id": "6474c33a",
   "metadata": {},
   "outputs": [],
   "source": [
    "day_new=np.arange(1,101)\n",
    "day_pred=np.arange(101,131)"
   ]
  },
  {
   "cell_type": "code",
   "execution_count": 68,
   "id": "f347a8a0",
   "metadata": {},
   "outputs": [],
   "source": [
    "import matplotlib.pyplot as plt"
   ]
  },
  {
   "cell_type": "code",
   "execution_count": 69,
   "id": "6fa164f1",
   "metadata": {},
   "outputs": [
    {
     "data": {
      "text/plain": [
       "2664"
      ]
     },
     "execution_count": 69,
     "metadata": {},
     "output_type": "execute_result"
    }
   ],
   "source": [
    "len(df1)"
   ]
  },
  {
   "cell_type": "code",
   "execution_count": 72,
   "id": "73b90a7d",
   "metadata": {},
   "outputs": [
    {
     "data": {
      "text/plain": [
       "[<matplotlib.lines.Line2D at 0x24857f5ea30>]"
      ]
     },
     "execution_count": 72,
     "metadata": {},
     "output_type": "execute_result"
    },
    {
     "data": {
      "image/png": "[encoded data removed]",
      "text/plain": [
       "<Figure size 432x288 with 1 Axes>"
      ]
     },
     "metadata": {
      "needs_background": "light"
     },
     "output_type": "display_data"
    }
   ],
   "source": [
    "plt.plot(day_new,scaler.inverse_transform(df1[2564:]))\n",
    "plt.plot(day_pred,scaler.inverse_transform(lst_output))"
   ]
  },
  {
   "cell_type": "code",
   "execution_count": 83,
   "id": "d79b1867",
   "metadata": {},
   "outputs": [
    {
     "data": {
      "text/plain": [
       "[<matplotlib.lines.Line2D at 0x2485819c5e0>]"
      ]
     },
     "execution_count": 83,
     "metadata": {},
     "output_type": "execute_result"
    },
    {
     "data": {
      "image/png": "[encoded data removed]",
      "text/plain": [
       "<Figure size 432x288 with 1 Axes>"
      ]
     },
     "metadata": {
      "needs_background": "light"
     },
     "output_type": "display_data"
    }
   ],
   "source": [
    "df3=df1.tolist()\n",
    "df3.extend(lst_output)\n",
    "plt.plot(df3[1500:])"
   ]
  },
  {
   "cell_type": "code",
   "execution_count": 74,
   "id": "8cebbaf1",
   "metadata": {},
   "outputs": [],
   "source": [
    "df3=scaler.inverse_transform(df3).tolist()"
   ]
  },
  {
   "cell_type": "code",
   "execution_count": 75,
   "id": "0b925e7c",
   "metadata": {},
   "outputs": [
    {
     "data": {
      "text/plain": [
       "[<matplotlib.lines.Line2D at 0x248580d51c0>]"
      ]
     },
     "execution_count": 75,
     "metadata": {},
     "output_type": "execute_result"
    },
    {
     "data": {
      "image/png": "[encoded data removed]",
      "text/plain": [
       "<Figure size 432x288 with 1 Axes>"
      ]
     },
     "metadata": {
      "needs_background": "light"
     },
     "output_type": "display_data"
    }
   ],
   "source": [
    "plt.plot(df3)"
   ]
  },
  {
   "cell_type": "code",
   "execution_count": null,
   "id": "831ec21b",
   "metadata": {},
   "outputs": [],
   "source": []
  }
 ],
 "metadata": {
  "kernelspec": {
   "display_name": "Python 3 (ipykernel)",
   "language": "python",
   "name": "python3"
  },
  "language_info": {
   "codemirror_mode": {
    "name": "ipython",
    "version": 3
   },
   "file_extension": ".py",
   "mimetype": "text/x-python",
   "name": "python",
   "nbconvert_exporter": "python",
   "pygments_lexer": "ipython3",
   "version": "3.9.12"
  }
 },
 "nbformat": 4,
 "nbformat_minor": 5
}
